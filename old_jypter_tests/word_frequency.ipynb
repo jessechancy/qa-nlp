{
 "nbformat": 4,
 "nbformat_minor": 2,
 "metadata": {
  "language_info": {
   "name": "python",
   "codemirror_mode": {
    "name": "ipython",
    "version": 3
   },
   "version": "3.7.4-final"
  },
  "orig_nbformat": 2,
  "file_extension": ".py",
  "mimetype": "text/x-python",
  "name": "python",
  "npconvert_exporter": "python",
  "pygments_lexer": "ipython3",
  "version": 3,
  "kernelspec": {
   "name": "python37464bit612e8b59140b4447942b36a5a3393415",
   "display_name": "Python 3.7.4 64-bit"
  }
 },
 "cells": [
  {
   "cell_type": "code",
   "execution_count": 2,
   "metadata": {},
   "outputs": [],
   "source": [
    "import nltk"
   ]
  },
  {
   "cell_type": "code",
   "execution_count": 1,
   "metadata": {},
   "outputs": [],
   "source": [
    "word_list = ['Gyarados', '(', 'ギャラドス', ',', 'Gyaradosu', ',', 'or', ')', 'is', 'a', 'Pokémon', 'species', 'in', 'Nintendo', 'and', 'Game', 'Freak', \"'s\", 'Pokémon', 'franchise', '.', 'Created', 'by', 'Ken', 'Sugimori', ',', 'Gyarados', 'first', 'appeared', 'in', 'the', 'video', 'games', 'Pokémon', 'Red', 'and', 'Pokemon', 'Green', 'and', 'subsequent', 'sequels', ',', 'later', 'appearing', 'in', 'various', 'merchandise', ',', 'spinoff', 'titles', 'and', 'animated', 'and', 'printed', 'adaptations', 'of', 'the', 'franchise', '.', 'Gyarados', 'is', 'voiced', 'by', 'Unshō', 'Ishizuka', 'in', 'both', 'Japanese', 'and', 'English', 'media', '.']"
   ]
  },
  {
   "cell_type": "code",
   "execution_count": 6,
   "metadata": {},
   "outputs": [],
   "source": [
    "from nltk.probability import FreqDist\n",
    "fdist = FreqDist(word_list)"
   ]
  },
  {
   "cell_type": "code",
   "execution_count": 8,
   "metadata": {},
   "outputs": [
    {
     "data": {
      "text/plain": "[('and', 6),\n (',', 5),\n ('in', 4),\n ('Gyarados', 3),\n ('Pokémon', 3),\n ('.', 3),\n ('is', 2),\n ('franchise', 2),\n ('by', 2),\n ('the', 2)]"
     },
     "execution_count": 8,
     "metadata": {},
     "output_type": "execute_result"
    }
   ],
   "source": [
    "fdist.most_common(10)"
   ]
  },
  {
   "cell_type": "code",
   "execution_count": null,
   "metadata": {},
   "outputs": [],
   "source": []
  }
 ]
}