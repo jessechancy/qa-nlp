{
 "cells": [
  {
   "cell_type": "markdown",
   "metadata": {},
   "source": [
    "# Sentence Tokenizer\n",
    "\n",
    "Given a list of sentence, we want to split each sentence into individual words and punctuation."
   ]
  },
  {
   "cell_type": "code",
   "execution_count": 16,
   "metadata": {},
   "outputs": [],
   "source": [
    "sentences = [\n",
    "             'Gyarados (ギャラドス, Gyaradosu,  or ) is a Pokémon species in Nintendo and Game Freak\\'s Pokémon franchise.', \n",
    "             'Created by Ken Sugimori, Gyarados first appeared in the video games Pokémon Red and Pokemon Green and subsequent sequels, later appearing in various merchandise, spinoff titles and animated and printed adaptations of the franchise.',\n",
    "             'Gyarados is voiced by Unshō Ishizuka in both Japanese and English media.'\n",
    "            ]"
   ]
  },
  {
   "cell_type": "markdown",
   "metadata": {},
   "source": [
    "### Spacy\n",
    "\n",
    "#### Installation:\n",
    "\n",
    "    pip install spacy\n",
    "\n",
    "    python3 -m spacy download en_core_web_sm"
   ]
  },
  {
   "cell_type": "code",
   "execution_count": 17,
   "metadata": {},
   "outputs": [],
   "source": [
    "import spacy\n",
    "def tokenize_spacy(sentence):\n",
    "    spacy_tokenizer = spacy.load('en_core_web_sm')\n",
    "    words_spacy = spacy_tokenizer(sentence)\n",
    "    words = [w.text for w in words_spacy]\n",
    "    return words"
   ]
  },
  {
   "cell_type": "markdown",
   "metadata": {},
   "source": [
    "### NLTK\n",
    "\n",
    "#### Installation:\n",
    "    pip install nltk\n",
    "    \n",
    "    uncomment nltk.download('punkt')"
   ]
  },
  {
   "cell_type": "code",
   "execution_count": 18,
   "metadata": {},
   "outputs": [],
   "source": [
    "import nltk\n",
    "#nltk.download('punkt')\n",
    "def tokenize_nltk(sentence):\n",
    "    return nltk.word_tokenize(sentence)"
   ]
  },
  {
   "cell_type": "markdown",
   "metadata": {},
   "source": [
    "### Implementation"
   ]
  },
  {
   "cell_type": "code",
   "execution_count": 19,
   "metadata": {},
   "outputs": [
    {
     "name": "stdout",
     "output_type": "stream",
     "text": [
      "['Gyarados', '(', 'ギャラドス', ',', 'Gyaradosu', ',', 'or', ')', 'is', 'a', 'Pokémon', 'species', 'in', 'Nintendo', 'and', 'Game', 'Freak', \"'s\", 'Pokémon', 'franchise', '.', 'Created', 'by', 'Ken', 'Sugimori', ',', 'Gyarados', 'first', 'appeared', 'in', 'the', 'video', 'games', 'Pokémon', 'Red', 'and', 'Pokemon', 'Green', 'and', 'subsequent', 'sequels', ',', 'later', 'appearing', 'in', 'various', 'merchandise', ',', 'spinoff', 'titles', 'and', 'animated', 'and', 'printed', 'adaptations', 'of', 'the', 'franchise', '.', 'Gyarados', 'is', 'voiced', 'by', 'Unshō', 'Ishizuka', 'in', 'both', 'Japanese', 'and', 'English', 'media', '.']\n"
     ]
    }
   ],
   "source": [
    "result = []\n",
    "for sentence in sentences:\n",
    "    #word_list = tokenize_spacy(sentence)\n",
    "    word_list = tokenize_nltk(sentence)\n",
    "    result.extend(word_list)\n",
    "print(result)"
   ]
  }
 ],
 "metadata": {
  "kernelspec": {
   "display_name": "assignment_2",
   "language": "python",
   "name": "assignment_2"
  },
  "language_info": {
   "codemirror_mode": {
    "name": "ipython",
    "version": 3
   },
   "file_extension": ".py",
   "mimetype": "text/x-python",
   "name": "python",
   "nbconvert_exporter": "python",
   "pygments_lexer": "ipython3",
   "version": "3.7.2"
  }
 },
 "nbformat": 4,
 "nbformat_minor": 2
}
