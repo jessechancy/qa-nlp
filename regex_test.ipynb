{
 "nbformat": 4,
 "nbformat_minor": 2,
 "metadata": {
  "language_info": {
   "name": "python",
   "codemirror_mode": {
    "name": "ipython",
    "version": 3
   },
   "version": "3.7.4-final"
  },
  "orig_nbformat": 2,
  "file_extension": ".py",
  "mimetype": "text/x-python",
  "name": "python",
  "npconvert_exporter": "python",
  "pygments_lexer": "ipython3",
  "version": 3,
  "kernelspec": {
   "name": "python37464bit612e8b59140b4447942b36a5a3393415",
   "display_name": "Python 3.7.4 64-bit"
  }
 },
 "cells": [
  {
   "cell_type": "markdown",
   "execution_count": null,
   "metadata": {},
   "outputs": [],
   "source": [
    "# Regex Test\n",
    "\n",
    "Testing possible method of evaluating sentences for answers using Python Regexs"
   ]
  },
  {
   "cell_type": "markdown",
   "metadata": {},
   "source": [
    "See the pos_tagger for what additional modules need to be installed"
   ]
  },
  {
   "cell_type": "code",
   "execution_count": 15,
   "metadata": {},
   "outputs": [],
   "source": [
    "import re\n",
    "import nltk"
   ]
  },
  {
   "cell_type": "code",
   "execution_count": 7,
   "metadata": {},
   "outputs": [],
   "source": [
    "#Potential work with query reformulation\n",
    "#See if this is more useful with that\n",
    "query1 = \"What is Gyrados most similar in appearance to?\"\n",
    "query2 = \"Where is Gyrados first seen?\" #This requires noting \"appeared\" and \"seen\" would be synonyms\n",
    "query3 = \"Where is a red Gyarados found in Pokémon Gold?\"\n",
    "query4 = \"What franchise is Gyarados in?\" #Note: the word \"franchise\" is lost in the regex, but would still be used in the query\n",
    "query5 = \"Who is Gyarados voiced by?\"\n",
    "query6 = \"What is Gyarados known as?\"\n",
    "query7 = \"How is the growth of Gyarados from Pokémon Diamond and Pearl to Pokémon Black and White described by IGN?\"\n",
    "#Note: Question could not start with wh-question word - eg. \"Gyarados is voiced by who?\""
   ]
  },
  {
   "cell_type": "code",
   "execution_count": 37,
   "metadata": {},
   "outputs": [
    {
     "name": "stdout",
     "output_type": "stream",
     "text": "[['Gyrados most similar in appearance to'], ['Gyrados first seen'], ['a red Gyarados found in Pokémon Gold'], ['Gyarados in'], ['Gyarados voiced by'], ['Gyarados known as'], ['the growth of Gyarados from Pokémon Diamond and Pearl to Pokémon Black and White described by IGN']]\n"
    }
   ],
   "source": [
    "p = re.compile('(Where |What |Who |How |Why |When )[\\w|\\s]*(is )([\\w*|\\s*]*)([?])')\n",
    "queries = [query1, query2, query3, query4, query5, query6, query7]\n",
    "\n",
    "listGroups = []\n",
    "for q in queries:\n",
    "    result = p.match(q)\n",
    "    if result == None:\n",
    "        #In actual usage, a flag would most likely be \n",
    "        #   set to indicate reformulation is not possible\n",
    "        continue\n",
    "\n",
    "    groups = result.groups()\n",
    "    listGroups.append([groups[2]])\n",
    "    #print(groups)\n",
    "    #print(groups[2])\n",
    "print(listGroups)\n",
    "#Next step is to figure out where the \"is\" should be placed"
   ]
  },
  {
   "cell_type": "code",
   "execution_count": 38,
   "metadata": {},
   "outputs": [
    {
     "name": "stdout",
     "output_type": "stream",
     "text": "[[('Gyrados', 'NNP'), ('most', 'RBS'), ('similar', 'JJ'), ('in', 'IN'), ('appearance', 'NN'), ('to', 'TO')], [('Gyrados', 'NNP'), ('first', 'RB'), ('seen', 'VBN')], [('a', 'DT'), ('red', 'JJ'), ('Gyarados', 'NNP'), ('found', 'VBD'), ('in', 'IN'), ('Pokémon', 'NNP'), ('Gold', 'NNP')], [('Gyarados', 'NNP'), ('in', 'IN')], [('Gyarados', 'NNP'), ('voiced', 'VBN'), ('by', 'IN')], [('Gyarados', 'NNP'), ('known', 'VBN'), ('as', 'IN')], [('the', 'DT'), ('growth', 'NN'), ('of', 'IN'), ('Gyarados', 'NNP'), ('from', 'IN'), ('Pokémon', 'NNP'), ('Diamond', 'NNP'), ('and', 'CC'), ('Pearl', 'NNP'), ('to', 'TO'), ('Pokémon', 'NNP'), ('Black', 'NNP'), ('and', 'CC'), ('White', 'NNP'), ('described', 'VBN'), ('by', 'IN'), ('IGN', 'NNP')]]\n"
    }
   ],
   "source": [
    "def pos_tagger(docs):\n",
    "    return nltk.pos_tag(docs)\n",
    "\n",
    "#Look at the section of the question that does not contain wh-question, \"is\", or \"?\"\n",
    "#Format for pos tagger into a list a words\n",
    "listBreakdowns = []\n",
    "for item in listGroups:\n",
    "    for section in item:\n",
    "        word_list = section.split(\" \")\n",
    "\n",
    "        #Remove excess \"\" if present in list\n",
    "        #Temporary fix\n",
    "        saved_index = -1\n",
    "        for i in range(len(word_list)):\n",
    "            if word_list[i] == \"\":\n",
    "                saved_index = i\n",
    "        \n",
    "        if saved_index != -1:\n",
    "            word_list.pop(saved_index)\n",
    "\n",
    "        #print(word_list)\n",
    "        breakdown = pos_tagger(word_list)\n",
    "        listBreakdowns.append(breakdown)\n",
    "        #print(breakdown)\n",
    "print(listBreakdowns)"
   ]
  },
  {
   "cell_type": "code",
   "execution_count": 39,
   "metadata": {},
   "outputs": [
    {
     "name": "stdout",
     "output_type": "stream",
     "text": "['Gyrados is most similar in appearance to', 'Gyrados is first seen', 'a red Gyarados is found in Pokémon Gold', 'Gyarados is in', 'Gyarados is voiced by', 'Gyarados is known as', 'the growth of Gyarados from Pokémon Diamond and Pearl to Pokémon Black and White is described by IGN']\n"
    }
   ],
   "source": [
    "#First search for adverb, then search for verb, then propositions, \n",
    "#   place \"is\" before first one found\n",
    "#String remaining words together to form reformulated question\n",
    "listReformulation = []\n",
    "for phrase in listBreakdowns:\n",
    "    reformulation = \"\"\n",
    "    isPlaced = False\n",
    "    for tag in [\"RB\", \"VB\", \"IN\"]: #Tags checked in this order\n",
    "        reformulation = \"\"\n",
    "        for taggedWord in phrase:\n",
    "            if tag in taggedWord[1] and isPlaced == False:\n",
    "                reformulation = reformulation + \" is \" + taggedWord[0]\n",
    "                isPlaced = True\n",
    "            else:\n",
    "                if reformulation == \"\":\n",
    "                    reformulation = taggedWord[0]\n",
    "                else:\n",
    "                    reformulation = reformulation + \" \" + taggedWord[0]\n",
    "        if isPlaced == True:\n",
    "            #Only have reformulation returned if all tags have \n",
    "            #   been searched or if a tag has been found\n",
    "            break \n",
    "\n",
    "    listReformulation.append(reformulation)\n",
    "print(listReformulation)"
   ]
  },
  {
   "cell_type": "code",
   "execution_count": null,
   "metadata": {},
   "outputs": [],
   "source": [
    "#Form query for each question"
   ]
  },
  {
   "cell_type": "code",
   "execution_count": null,
   "metadata": {},
   "outputs": [],
   "source": [
    "#TODO: Open Pokemon text and compare query with each sentence\n",
    "with open(\"noun_counting_data/a1.txt\") as f:\n",
    "    text = f.read()\n",
    "    paragraphs = text.split(\"\\n\")\n",
    "    sentences = []\n",
    "    for entry in paragraphs:\n",
    "        sentences.extend(entry.split(\".\"))\n",
    "print(sentences)"
   ]
  }
 ]
}