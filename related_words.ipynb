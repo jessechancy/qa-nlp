{
 "nbformat": 4,
 "nbformat_minor": 2,
 "metadata": {
  "language_info": {
   "name": "python",
   "codemirror_mode": {
    "name": "ipython",
    "version": 3
   }
  },
  "orig_nbformat": 2,
  "file_extension": ".py",
  "mimetype": "text/x-python",
  "name": "python",
  "npconvert_exporter": "python",
  "pygments_lexer": "ipython3",
  "version": 3
 },
 "cells": [
  {
   "cell_type": "markdown",
   "metadata": {},
   "source": [
    "# Determining Related Words from a Base Word\n",
    "\n",
    "synonyms, hypernyms, and hyponyms\n",
    "https://seethesource.wordpress.com/2016/08/07/find-synonyms-and-hyponyms-using-python-nltk-and-wordnet%E2%80%8B/\n",
    "\n",
    "synonyms, antonyms\n",
    "https://towardsdatascience.com/synonyms-and-antonyms-in-python-a865a5e14ce8\n",
    "\n",
    "synonyms, antonyms\n",
    "https://www.geeksforgeeks.org/get-synonymsantonyms-nltk-wordnet-python/"
   ]
  }
 ]
}