{
 "cells": [
  {
   "cell_type": "markdown",
   "metadata": {},
   "source": [
    "# Determining Related Words from a Base Word\n",
    "\n",
    "synonyms, hypernyms, and hyponyms\n",
    "https://seethesource.wordpress.com/2016/08/07/find-synonyms-and-hyponyms-using-python-nltk-and-wordnet%E2%80%8B/\n",
    "\n",
    "synonyms, antonyms\n",
    "https://towardsdatascience.com/synonyms-and-antonyms-in-python-a865a5e14ce8\n",
    "\n",
    "synonyms, antonyms\n",
    "https://www.geeksforgeeks.org/get-synonymsantonyms-nltk-wordnet-python/"
   ]
  },
  {
   "cell_type": "code",
   "execution_count": 1,
   "metadata": {},
   "outputs": [
    {
     "output_type": "stream",
     "name": "stdout",
     "text": "{'dog', 'wienerwurst', 'bounder', 'hotdog', 'Canis_familiaris', 'cad', 'blackguard', 'dog-iron', 'chase_after', 'frankfurter', 'chase', 'give_chase', 'tag', 'andiron', 'hound', 'pawl', 'frank', 'track', 'frump', 'click', 'weenie', 'domestic_dog', 'heel', 'detent', 'wiener', 'firedog', 'go_after', 'hot_dog', 'tail', 'trail'}\nSynset name :   dog.n.01\n\nSynset abstract term :   [Synset('canine.n.02'), Synset('domestic_animal.n.01')]\n\nSynset specific term :   [Synset('basenji.n.01'), Synset('corgi.n.01'), Synset('cur.n.01'), Synset('dalmatian.n.02'), Synset('great_pyrenees.n.01'), Synset('griffon.n.02'), Synset('hunting_dog.n.01'), Synset('lapdog.n.01'), Synset('leonberg.n.01'), Synset('mexican_hairless.n.01'), Synset('newfoundland.n.01'), Synset('pooch.n.01'), Synset('poodle.n.01'), Synset('pug.n.01'), Synset('puppy.n.01'), Synset('spitz.n.01'), Synset('toy_dog.n.01'), Synset('working_dog.n.01')]\n\nHyper:  {'canine', 'canid'}\n\nHypo:  {'basenji', 'Newfoundland', 'pooch', 'mongrel', 'pug', 'doggy', 'doggie', 'barker', 'dalmatian', 'spitz', 'pug-dog', 'bow-wow', 'mutt', 'corgi', 'toy', 'puppy', 'poodle', 'Leonberg', 'griffon', 'cur', 'lapdog'}\n"
    }
   ],
   "source": [
    "import nltk\n",
    "from nltk.corpus import wordnet\n",
    "#https://www.geeksforgeeks.org/nlp-synsets-for-a-word-in-wordnet/\n",
    "#https://www.geeksforgeeks.org/get-synonymsantonyms-nltk-wordnet-python/\n",
    "\n",
    "#NOTE: With current system, will only be able to check for one word replacements\n",
    "# Therefore multi-word replacements may still be missed\n",
    "\n",
    "syns = wordnet.synsets('red')\n",
    "\n",
    "first = syns[0]\n",
    "\n",
    "synonyms = set()\n",
    "for syn in syns: \n",
    "    for l in syn.lemmas(): \n",
    "        synonyms.add(l.name()) \n",
    "print(synonyms)\n",
    "\n",
    "print (\"Synset name :  \", first.name())\n",
    "\n",
    "hyper = first.hypernyms()\n",
    "print (\"\\nSynset abstract term :  \", hyper) \n",
    "  \n",
    "hyper_words = set()\n",
    "for m in hyper:\n",
    "    #hyper_words.add(m.name())\n",
    "    for word in m.lemmas():\n",
    "        phrase = word.name().replace(\"_\", \" \") #Eliminating underscores to show one word vs 2 word statements\n",
    "        if len(phrase.split()) == 1: #Identifying single word replacements\n",
    "            hyper_words.add(phrase)\n",
    "\n",
    "hypo = first.hyponyms()\n",
    "print (\"\\nSynset specific term :  \",  \n",
    "       hypo) \n",
    "  \n",
    "hypo_words = set()\n",
    "for k in hypo:\n",
    "    #hypo_words.add(k.name())\n",
    "    for word in k.lemmas():\n",
    "        phrase = word.name().replace(\"_\", \" \") #Eliminating underscores to show one word vs 2 word statements\n",
    "        if len(phrase.split()) == 1: #Identifying single word replacements\n",
    "            hypo_words.add(phrase)\n",
    "  \n",
    "print (\"\\nHyper: \", hyper_words)\n",
    "print (\"\\nHypo: \", hypo_words)\n"
   ]
  },
  {
   "cell_type": "code",
   "execution_count": null,
   "metadata": {},
   "outputs": [],
   "source": []
  }
 ],
 "metadata": {
  "language_info": {
   "name": "python",
   "codemirror_mode": {
    "name": "ipython",
    "version": 3
   },
   "version": "3.7.4-final"
  },
  "orig_nbformat": 2,
  "file_extension": ".py",
  "mimetype": "text/x-python",
  "name": "python",
  "npconvert_exporter": "python",
  "pygments_lexer": "ipython3",
  "version": 3,
  "kernelspec": {
   "name": "python37464bit58b581aa823b48d68caa55b91f5030c4",
   "display_name": "Python 3.7.4 64-bit"
  }
 },
 "nbformat": 4,
 "nbformat_minor": 2
}