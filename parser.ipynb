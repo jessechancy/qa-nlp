{
 "nbformat": 4,
 "nbformat_minor": 2,
 "metadata": {
  "language_info": {
   "name": "python",
   "codemirror_mode": {
    "name": "ipython",
    "version": 3
   },
   "version": "3.7.4-final"
  },
  "orig_nbformat": 2,
  "file_extension": ".py",
  "mimetype": "text/x-python",
  "name": "python",
  "npconvert_exporter": "python",
  "pygments_lexer": "ipython3",
  "version": 3,
  "kernelspec": {
   "name": "python37464bit58b581aa823b48d68caa55b91f5030c4",
   "display_name": "Python 3.7.4 64-bit"
  }
 },
 "cells": [
  {
   "cell_type": "markdown",
   "metadata": {},
   "source": [
    "# Parser\n",
    "\n",
    "Parse a sentence such that its syntax can be broken down\n",
    "\n",
    "It should be noted I attempted following the instructions at the following site, but something might have been buggy with my requests library:\n",
    "https://bbengfort.github.io/snippets/2018/06/22/corenlp-nltk-parses.html?fbclid=IwAR1d6Hu4L1UL9wzXOQC_fJJ4R58q-wmwZzbYfjhmhsd7psZx6DQTYnCvWvg"
   ]
  },
  {
   "cell_type": "code",
   "execution_count": 66,
   "metadata": {},
   "outputs": [],
   "source": [
    "import nltk\n",
    "import os\n",
    "from nltk.parse import CoreNLPParser"
   ]
  },
  {
   "cell_type": "markdown",
   "metadata": {},
   "source": [
    "https://github.com/nltk/nltk/wiki/Stanford-CoreNLP-API-in-NLTK\n",
    "\n",
    "In the directory with the Stanford CoreNLP run the following command to start the server at port 9000\n",
    "\n",
    "java -mx4g -cp \"*\" edu.stanford.nlp.pipeline.StanfordCoreNLPServer \\\n",
    "-preload tokenize,ssplit,pos,lemma,ner,parse,depparse \\\n",
    "-status_port 9000 -port 9000 -timeout 15000 &\n",
    "\n",
    "Remember to STOP the server when finished (then kill job)\n",
    "https://www.tldp.org/LDP/abs/html/x9644.html\n",
    "\n",
    "\n",
    "Penn Tree Bank Labels\n",
    "https://gist.github.com/nlothian/9240750"
   ]
  },
  {
   "cell_type": "code",
   "execution_count": 3,
   "metadata": {},
   "outputs": [
    {
     "output_type": "stream",
     "name": "stdout",
     "text": "[Tree('ROOT', [Tree('SBARQ', [Tree('WHNP', [Tree('WP', ['what'])]), Tree('SQ', [Tree('VBZ', ['is']), Tree('NP', [Tree('NP', [Tree('DT', ['the']), Tree('NN', ['color'])]), Tree('PP', [Tree('IN', ['of']), Tree('NP', [Tree('NP', [Tree('DT', ['a']), Tree('VB', ['swallow'])]), Tree(',', [',']), Tree('NP', [Tree('DT', ['a']), Tree('NN', ['robin'])]), Tree(',', [',']), Tree('CC', ['and']), Tree('NP', [Tree('DT', ['a']), Tree('NN', ['cardinal'])])])])])]), Tree('.', ['?'])])])]\n"
    },
    {
     "output_type": "execute_result",
     "data": {
      "text/plain": "\"[Tree('ROOT', [Tree('SBARQ', [Tree('WHNP', [Tree('WP', ['what'])]), Tree('SQ', [Tree('VBZ', ['is']), Tree('NP', [Tree('NP', [Tree('DT', ['the']), Tree('NN', ['color'])]), Tree('PP', [Tree('IN', ['of']), Tree('NP', [Tree('NP', [Tree('DT', ['a']), Tree('VB', ['swallow'])]), Tree(',', [',']), Tree('NP', [Tree('DT', ['a']), Tree('NN', ['robin'])]), Tree(',', [',']), Tree('CC', ['and']), Tree('NP', [Tree('DT', ['a']), Tree('NN', ['cardinal'])])])])])]), Tree('.', ['?'])])])]\""
     },
     "metadata": {},
     "execution_count": 3
    }
   ],
   "source": [
    "# Lexical Parser\n",
    "parser = CoreNLPParser(url='http://localhost:9000')\n",
    "s = 'What is the color of a swallow, a robin, and a cardinal?'\n",
    "#NOTE: 1) Make sentence lowercase\n",
    "s = s.lower()\n",
    "parsed_list = list(parser.parse(s.split()))\n",
    "print(parsed_list)\n",
    "\"[Tree('ROOT', [Tree('SBARQ', [Tree('WHNP', [Tree('WP', ['what'])]), Tree('SQ', [Tree('VBZ', ['is']), Tree('NP', [Tree('NP', [Tree('DT', ['the']), Tree('NN', ['color'])]), Tree('PP', [Tree('IN', ['of']), Tree('NP', [Tree('NP', [Tree('DT', ['a']), Tree('VB', ['swallow'])]), Tree(',', [',']), Tree('NP', [Tree('DT', ['a']), Tree('NN', ['robin'])]), Tree(',', [',']), Tree('CC', ['and']), Tree('NP', [Tree('DT', ['a']), Tree('NN', ['cardinal'])])])])])]), Tree('.', ['?'])])])]\""
   ]
  },
  {
   "cell_type": "code",
   "execution_count": 9,
   "metadata": {},
   "outputs": [
    {
     "output_type": "stream",
     "name": "stdout",
     "text": "(ROOT\n  (SBARQ\n    (WHNP (WP what))\n    (SQ\n      (VBZ is)\n      (NP\n        (NP (DT the) (NN color))\n        (PP\n          (IN of)\n          (NP\n            (NP (DT a) (VB swallow))\n            (, ,)\n            (NP (DT a) (NN robin))\n            (, ,)\n            (CC and)\n            (NP (DT a) (NN cardinal))))))\n    (. ?)))\n\n(SBARQ\n  (WHNP (WP what))\n  (SQ\n    (VBZ is)\n    (NP\n      (NP (DT the) (NN color))\n      (PP\n        (IN of)\n        (NP\n          (NP (DT a) (VB swallow))\n          (, ,)\n          (NP (DT a) (NN robin))\n          (, ,)\n          (CC and)\n          (NP (DT a) (NN cardinal))))))\n  (. ?))\n\nROOT\n"
    }
   ],
   "source": [
    "print(parsed_list[0])\n",
    "print()\n",
    "print(parsed_list[0][0])\n",
    "print()\n",
    "print(parsed_list[0].label())"
   ]
  },
  {
   "cell_type": "code",
   "execution_count": 67,
   "metadata": {},
   "outputs": [],
   "source": [
    "sentence = \"Gyarados (ギャラドス, Gyaradosu,  or ) is a Pokémon species in Nintendo and Game Freak's Pokémon franchise. Created by Ken Sugimori, Gyarados first appeared in the video games Pokémon Red and Pokemon Green and subsequent sequels, later appearing in various merchandise, spinoff titles and animated and printed adaptations of the franchise.\"\n",
    "\n",
    "#Preprocessing: make all lowercase, but keep the question mark; test removing all other punctuation (\",\", \";\", etc)\n",
    "\n",
    "parser = CoreNLPParser(url='http://localhost:9000')\n",
    "#Test with the parser and types of potentially formatted questions\n",
    "query1 = \"what is Gyrados most similar in appearance to?\"\n",
    "query2 = \"where is Gyrados first seen?\" #This requires noting \"appeared\" and \"seen\" would be synonyms\n",
    "query3 = \"where is a red Gyarados found in Pokémon Gold?\"\n",
    "query4 = \"where is Gyarados a Pokémon species?\"\n",
    "query5 = \"who is Gyarados voiced by?\"\n",
    "query6 = \"what is Gyarados known as?\"\n",
    "query7 = \"how did IGN describe the growth of Gyarados from Pokémon Diamond and Pearl to Pokémon Black and White?\"\n",
    "#query8 = \"is Gyarados in the Pokémon franchise?\"\n",
    "#Note: Question could not start with wh-question word - eg. \"Gyarados is voiced by who?\"\n",
    "\n",
    "test = \"Gyarados (ギャラドス, Gyaradosu,  or ) is a Pokémon species in Nintendo and Game Freak's Pokémon franchise.\"\n",
    "\n",
    "queryList = [query1, query2, query3, query4, query5, query6, query7, test]\n",
    "listEntries = []\n",
    "entries = []\n",
    "for q in queryList:\n",
    "    result = parser.parse(q.split())\n",
    "    listResult = list(result)\n",
    "    entries.append(result)\n",
    "    listEntries.append(listResult)\n",
    "    #print(listResult)\n",
    ""
   ]
  },
  {
   "cell_type": "code",
   "execution_count": 68,
   "metadata": {},
   "outputs": [
    {
     "output_type": "stream",
     "name": "stdout",
     "text": "0\n(ROOT\n  (SBARQ\n    (WHNP (WP what))\n    (SQ\n      (VBZ is)\n      (NP (NNP Gyrados))\n      (ADJP\n        (RBS most)\n        (JJ similar)\n        (PP (IN in) (NP (NN appearance)))\n        (TO to)))\n    (. ?)))\n\n1\n(ROOT\n  (SBARQ\n    (WHADVP (WRB where))\n    (SQ\n      (VBZ is)\n      (NP (NNP Gyrados))\n      (VP (ADVP (RB first)) (VBN seen)))\n    (. ?)))\n\n2\n(ROOT\n  (SBARQ\n    (WHADVP (WRB where))\n    (SQ\n      (VBZ is)\n      (NP (DT a) (JJ red) (NN Gyarados))\n      (VP (VBN found) (PP (IN in) (NP (NNP Pokémon) (NNP Gold)))))\n    (. ?)))\n\n3\n(ROOT\n  (SBARQ\n    (WHADVP (WRB where))\n    (SQ\n      (VBZ is)\n      (NP (NNP Gyarados))\n      (NP (DT a) (NNP Pokémon) (NNS species)))\n    (. ?)))\n\n4\n(ROOT\n  (SBARQ\n    (WHNP (WP who))\n    (SQ (VBZ is) (NP (NNP Gyarados)) (VP (VBN voiced) (PP (IN by))))\n    (. ?)))\n\n5\n(ROOT\n  (SBARQ\n    (WHNP (WP what))\n    (SQ (VBZ is) (NP (NNP Gyarados)) (VP (VBN known) (PP (IN as))))\n    (. ?)))\n\n6\n(ROOT\n  (SBARQ\n    (WHADVP (WRB how))\n    (SQ\n      (VBD did)\n      (NP (NNP IGN))\n      (VP\n        (VBP describe)\n        (NP\n          (NP (DT the) (NN growth))\n          (PP (IN of) (NP (NNP Gyarados))))\n        (PP\n          (PP\n            (IN from)\n            (NP\n              (NP (NNP Pokémon) (NNP Diamond))\n              (CC and)\n              (NP (NNP Pearl))))\n          (PP\n            (TO to)\n            (NP\n              (NP (NNP Pokémon) (NNP Black))\n              (CC and)\n              (NP (NNP White)))))))\n    (. ?)))\n\n7\n(ROOT\n  (S\n    (NP\n      (NP (NN Gyarados))\n      (PRN\n        (-LRB- -LRB-)\n        (NP\n          (NP (CD ギャラドス))\n          (, ,)\n          (NP (NNP Gyaradosu))\n          (, ,)\n          (CC or)\n          (-RRB- -RRB-))))\n    (VP\n      (VBZ is)\n      (S\n        (NP\n          (NP (DT a) (NNP Pokémon) (NNS species))\n          (PP (IN in) (NP (NNP Nintendo) (CC and) (NNP Game))))\n        (NP (NP (NNP Freak) (POS 's)) (NNP Pokémon) (NN franchise))))\n    (. .)))\n\n"
    }
   ],
   "source": [
    "for i in range(len(listEntries)):\n",
    "    print(int(i))\n",
    "    print(listEntries[i][0])\n",
    "    print()"
   ]
  },
  {
   "cell_type": "markdown",
   "metadata": {},
   "source": [
    "# REFORMATION CODE"
   ]
  },
  {
   "cell_type": "code",
   "execution_count": 69,
   "metadata": {},
   "outputs": [],
   "source": [
    "#From Jesse's question_generation.ipynb\n",
    "from nltk.tree import Tree\n",
    "\n",
    "def list_to_string(word_list):\n",
    "    return ' '.join(word_list)\n",
    "\n",
    "def tree_to_string(parsed_tree):\n",
    "#     if isinstance(parsed_tree, str):\n",
    "#         return parsed_tree\n",
    "#     words = []\n",
    "#     for subtree in parsed_tree:\n",
    "#         words.append(tree_to_string(subtree))\n",
    "    return list_to_string(parsed_tree.leaves())"
   ]
  },
  {
   "cell_type": "code",
   "execution_count": 70,
   "metadata": {},
   "outputs": [],
   "source": [
    "#From Jesse's question_generation.ipynb pt2\n",
    "#Sentence Structure Tree\n",
    "class SST():\n",
    "    def __init__(self, label, children):\n",
    "        self.label = label\n",
    "        self.children = children\n",
    "\n",
    "#Sentence Structure Leaf\n",
    "class SSL():\n",
    "    def __init__(self, label):\n",
    "        self.label = label\n",
    "\n",
    "#Use as an example       \n",
    "simple_predicate = SST('ROOT', [SST('S', [SSL('NP'), SSL('VP'), SSL('.')])])\n",
    "\n",
    "def satisfies_structure(parsed_tree, structure):\n",
    "    if isinstance(structure, SSL):\n",
    "        return parsed_tree.label() == structure.label\n",
    "    else:\n",
    "        if parsed_tree.label() != structure.label or len(parsed_tree) != len(structure.children): return False\n",
    "        for i in range(len(parsed_tree)):\n",
    "            if satisfies_structure(parsed_tree[i], structure.children[i]) == False:\n",
    "                return False\n",
    "        return True"
   ]
  },
  {
   "cell_type": "code",
   "execution_count": 84,
   "metadata": {},
   "outputs": [],
   "source": [
    "#Loop through all possible verb types other than VBZ and VBD too\n",
    "#FIXME: More forms should be added\n",
    "form_1 = SST('SQ', [SSL('VBZ'), SSL('NP'), SSL('VP')])\n",
    "form_1_2 = SST('SQ', [SSL('VBD'), SSL('NP'), SSL('VP')])\n",
    "form_2 = SST('SQ', [SSL('VBZ'), SSL('NP'), SSL('ADJP')])\n",
    "form_2_2 = SST('SQ', [SSL('VBZ'), SSL('NP'), SSL('ADVP')])\n",
    "form_3 = SST('SQ', [SSL('VBZ'), SSL('NP'), SSL('PP')])\n",
    "form_4 = SST('SQ', [SSL('VBZ'), SSL('NP'), SSL('NP')])\n",
    "form_4_2 = SST('SQ', [SSL('VBD'), SSL('NP'), SSL('NP')])"
   ]
  },
  {
   "cell_type": "code",
   "execution_count": 85,
   "metadata": {},
   "outputs": [],
   "source": [
    "#Input Structure Example\n",
    "'''\n",
    "(WHNP (WP what))\n",
    "(SQ (VBZ is) (NP (NNP Gyarados)) (VP (VBN known) (PP (IN as))))\n",
    "(. ?)\n",
    "'''\n",
    "def make_binary_declarative(question):\n",
    "    if (satisfies_structure(question, form_1) or\n",
    "        satisfies_structure(question, form_1_2) or\n",
    "        satisfies_structure(question, form_2) or\n",
    "        satisfies_structure(question, form_2_2) or\n",
    "        satisfies_structure(question, form_3) or\n",
    "        satisfies_structure(question, form_4) or\n",
    "        satisfies_structure(question, form_4_2)):\n",
    "        verb = question[0]\n",
    "        np = question[1]\n",
    "        last = question[2]\n",
    "        print(question)\n",
    "        full = list_to_string([tree_to_string(np), verb[0],  tree_to_string(last)])\n",
    "        print(full)\n",
    "        return full\n",
    "    else:\n",
    "        print(\"ERROR: NO CORRESPONDING FORM TEMPLATE CREATED\")\n",
    "        print(question)\n",
    "        return \"\""
   ]
  },
  {
   "cell_type": "code",
   "execution_count": 73,
   "metadata": {},
   "outputs": [],
   "source": [
    "#Input Structure Example\n",
    "'''\n",
    "  (SBARQ\n",
    "    (WHNP (WP what))\n",
    "    (SQ (VBZ is) (NP (NNP Gyarados)) (VP (VBN known) (PP (IN as))))\n",
    "    (. ?))\n",
    "'''\n",
    "def make_wh_declarative(question):\n",
    "    wh_word = question[0][0].leaves()\n",
    "    print(\"WH Word: \" + str(wh_word[0]))\n",
    "    new_sentence = make_binary_declarative(question[1]) #FIXME: Check this as an input\n",
    "    return [wh_word, new_sentence]"
   ]
  },
  {
   "cell_type": "code",
   "execution_count": 81,
   "metadata": {},
   "outputs": [],
   "source": [
    "#Input Structure Example\n",
    "'''\n",
    "(ROOT\n",
    "  (SBARQ\n",
    "    (WHNP (WP what))\n",
    "    (SQ (VBZ is) (NP (NNP Gyarados)) (VP (VBN known) (PP (IN as))))\n",
    "    (. ?)))\n",
    "'''\n",
    "def make_declarative(parsed_tree):\n",
    "    \n",
    "    was_declarative = False #Mark if the sentence was already considered declarative\n",
    "    question_word = \"\"\n",
    "    #FIXME: ^Should also apply if the sentence could not be parsed\n",
    "    question = parsed_tree[0]\n",
    "\n",
    "    if question.label() == \"SBARQ\":\n",
    "        #Check to make sure \"SQ\" doesnt follow in case it was just misclassified\n",
    "        if question[0].label() == \"SQ\":\n",
    "            new_sentence = make_binary_declarative(question[0])\n",
    "        else:\n",
    "            [question_word, new_sentence] = make_wh_declarative(question)\n",
    "    elif question.label() == \"SQ\":\n",
    "        new_sentence = make_binary_declarative(question)\n",
    "\n",
    "    elif question.label() == \"S\":\n",
    "        print(\"Already in sentence form\")\n",
    "        was_declarative = True\n",
    "        new_sentence = tree_to_string(question)\n",
    "\n",
    "    else:\n",
    "        print(\"ERROR: Not equipt to handle questions parsed as:\" + str(question.label()))\n",
    "#NOTE: Need to handle the question word, was_declarative, and the new sentence when returning\n",
    "    return [question_word, was_declarative, new_sentence]\n",
    "            "
   ]
  },
  {
   "cell_type": "code",
   "execution_count": 86,
   "metadata": {},
   "outputs": [
    {
     "output_type": "stream",
     "name": "stdout",
     "text": "0\nWH Word: what\n(SQ\n  (VBZ is)\n  (NP (NNP Gyrados))\n  (ADJP\n    (RBS most)\n    (JJ similar)\n    (PP (IN in) (NP (NN appearance)))\n    (TO to)))\nGyrados is most similar in appearance to\n\n1\nWH Word: where\n(SQ (VBZ is) (NP (NNP Gyrados)) (VP (ADVP (RB first)) (VBN seen)))\nGyrados is first seen\n\n2\nWH Word: where\n(SQ\n  (VBZ is)\n  (NP (DT a) (JJ red) (NN Gyarados))\n  (VP (VBN found) (PP (IN in) (NP (NNP Pokémon) (NNP Gold)))))\na red Gyarados is found in Pokémon Gold\n\n3\nWH Word: where\n(SQ\n  (VBZ is)\n  (NP (NNP Gyarados))\n  (NP (DT a) (NNP Pokémon) (NNS species)))\nGyarados is a Pokémon species\n\n4\nWH Word: who\n(SQ (VBZ is) (NP (NNP Gyarados)) (VP (VBN voiced) (PP (IN by))))\nGyarados is voiced by\n\n5\nWH Word: what\n(SQ (VBZ is) (NP (NNP Gyarados)) (VP (VBN known) (PP (IN as))))\nGyarados is known as\n\n6\nWH Word: how\n(SQ\n  (VBD did)\n  (NP (NNP IGN))\n  (VP\n    (VBP describe)\n    (NP (NP (DT the) (NN growth)) (PP (IN of) (NP (NNP Gyarados))))\n    (PP\n      (PP\n        (IN from)\n        (NP\n          (NP (NNP Pokémon) (NNP Diamond))\n          (CC and)\n          (NP (NNP Pearl))))\n      (PP\n        (TO to)\n        (NP (NP (NNP Pokémon) (NNP Black)) (CC and) (NP (NNP White)))))))\nIGN did describe the growth of Gyarados from Pokémon Diamond and Pearl to Pokémon Black and White\n\n7\nAlready in sentence form\n\n"
    }
   ],
   "source": [
    "for i in range(len(listEntries)):\n",
    "    print(int(i))\n",
    "    make_declarative(listEntries[i][0])\n",
    "    print()\n",
    "    "
   ]
  },
  {
   "cell_type": "code",
   "execution_count": null,
   "metadata": {},
   "outputs": [],
   "source": []
  }
 ]
}