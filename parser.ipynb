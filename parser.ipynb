{
 "nbformat": 4,
 "nbformat_minor": 2,
 "metadata": {
  "language_info": {
   "name": "python",
   "codemirror_mode": {
    "name": "ipython",
    "version": 3
   },
   "version": "3.7.4-final"
  },
  "orig_nbformat": 2,
  "file_extension": ".py",
  "mimetype": "text/x-python",
  "name": "python",
  "npconvert_exporter": "python",
  "pygments_lexer": "ipython3",
  "version": 3,
  "kernelspec": {
   "name": "python37464bit58b581aa823b48d68caa55b91f5030c4",
   "display_name": "Python 3.7.4 64-bit"
  }
 },
 "cells": [
  {
   "cell_type": "markdown",
   "metadata": {},
   "source": [
    "# Parser\n",
    "\n",
    "Parse a sentence such that its syntax can be broken down\n",
    "\n",
    "It should be noted I attempted following the instructions at the following site, but something might have been buggy with my requests library:\n",
    "https://bbengfort.github.io/snippets/2018/06/22/corenlp-nltk-parses.html?fbclid=IwAR1d6Hu4L1UL9wzXOQC_fJJ4R58q-wmwZzbYfjhmhsd7psZx6DQTYnCvWvg"
   ]
  },
  {
   "cell_type": "code",
   "execution_count": 22,
   "metadata": {},
   "outputs": [],
   "source": [
    "import nltk\n",
    "import os\n",
    "from nltk.parse import CoreNLPParser"
   ]
  },
  {
   "cell_type": "markdown",
   "metadata": {},
   "source": [
    "https://github.com/nltk/nltk/wiki/Stanford-CoreNLP-API-in-NLTK\n",
    "\n",
    "In the directory with the Stanford CoreNLP run the following command to start the server at port 9000\n",
    "\n",
    "java -mx4g -cp \"*\" edu.stanford.nlp.pipeline.StanfordCoreNLPServer \\\n",
    "-preload tokenize,ssplit,pos,lemma,ner,parse,depparse \\\n",
    "-status_port 9000 -port 9000 -timeout 15000 &\n",
    "\n",
    "Remember to STOP the server when finished (then kill job)\n",
    "https://www.tldp.org/LDP/abs/html/x9644.html\n",
    "\n",
    "\n",
    "Penn Tree Bank Labels\n",
    "https://gist.github.com/nlothian/9240750"
   ]
  },
  {
   "cell_type": "code",
   "execution_count": 23,
   "metadata": {},
   "outputs": [
    {
     "output_type": "stream",
     "name": "stdout",
     "text": "[Tree('ROOT', [Tree('SBARQ', [Tree('WHNP', [Tree('WP', ['what'])]), Tree('SQ', [Tree('VBZ', ['is']), Tree('NP', [Tree('NP', [Tree('DT', ['the']), Tree('NN', ['color'])]), Tree('PP', [Tree('IN', ['of']), Tree('NP', [Tree('NP', [Tree('DT', ['a']), Tree('VB', ['swallow'])]), Tree(',', [',']), Tree('NP', [Tree('DT', ['a']), Tree('NN', ['robin'])]), Tree(',', [',']), Tree('CC', ['and']), Tree('NP', [Tree('DT', ['a']), Tree('NN', ['cardinal'])])])])])]), Tree('.', ['?'])])])]\n"
    }
   ],
   "source": [
    "# Lexical Parser\n",
    "parser = CoreNLPParser(url='http://localhost:9000')\n",
    "s = 'What is the color of a swallow, a robin, and a cardinal?'\n",
    "#NOTE: 1) Make sentence lowercase\n",
    "s = s.lower()\n",
    "parsed_list = list(parser.parse(s.split()))\n",
    "print(parsed_list)\n",
    "\"[Tree('ROOT', [Tree('SBARQ', [Tree('WHNP', [Tree('WP', ['what'])]), Tree('SQ', [Tree('VBZ', ['is']), Tree('NP', [Tree('NP', [Tree('DT', ['the']), Tree('NN', ['color'])]), Tree('PP', [Tree('IN', ['of']), Tree('NP', [Tree('NP', [Tree('DT', ['a']), Tree('VB', ['swallow'])]), Tree(',', [',']), Tree('NP', [Tree('DT', ['a']), Tree('NN', ['robin'])]), Tree(',', [',']), Tree('CC', ['and']), Tree('NP', [Tree('DT', ['a']), Tree('NN', ['cardinal'])])])])])]), Tree('.', ['?'])])])]\""
   ]
  },
  {
   "cell_type": "code",
   "execution_count": 18,
   "metadata": {
    "tags": [
     "outputPrepend",
     "outputPrepend",
     "outputPrepend",
     "outputPrepend",
     "outputPrepend",
     "outputPrepend",
     "outputPrepend",
     "outputPrepend",
     "outputPrepend",
     "outputPrepend",
     "outputPrepend",
     "outputPrepend",
     "outputPrepend",
     "outputPrepend",
     "outputPrepend",
     "outputPrepend",
     "outputPrepend",
     "outputPrepend",
     "outputPrepend",
     "outputPrepend",
     "outputPrepend",
     "outputPrepend",
     "outputPrepend",
     "outputPrepend",
     "outputPrepend",
     "outputPrepend",
     "outputPrepend",
     "outputPrepend",
     "outputPrepend",
     "outputPrepend",
     "outputPrepend",
     "outputPrepend",
     "outputPrepend",
     "outputPrepend",
     "outputPrepend",
     "outputPrepend",
     "outputPrepend",
     "outputPrepend",
     "outputPrepend",
     "outputPrepend",
     "outputPrepend",
     "outputPrepend",
     "outputPrepend",
     "outputPrepend",
     "outputPrepend",
     "outputPrepend",
     "outputPrepend",
     "outputPrepend",
     "outputPrepend",
     "outputPrepend",
     "outputPrepend",
     "outputPrepend",
     "outputPrepend"
    ]
   },
   "outputs": [
    {
     "output_type": "stream",
     "name": "stdout",
     "text": "Index: 0\nHey, you!\nLength: 9\nIndex: 1\nHey, you!\nLength: 9\nIndex: 2\nHey, you!\nLength: 9\nIndex: 1\ny, you!\nLength: 7\nIndex: 2\ny, you!\nLength: 7\nIndex: 1\n you!\nLength: 5\nIndex: 2\n you!\nLength: 5\nIndex: 1\nou!\nLength: 3\nIndex: 2\nou!\nLength: 3\nDONE\nHey, you!\n"
    }
   ],
   "source": [
    "#TEST\n",
    "\n",
    "buffer = \"\"\n",
    "test = \"Hey, you!\"\n",
    "i = 0\n",
    "\n",
    "while i < len(test):\n",
    "    print(\"Index: \" + str(i))\n",
    "    print(test)\n",
    "    print(\"Length: \" + str(len(test)))\n",
    "\n",
    "    buffer = buffer + test[i]\n",
    "    \n",
    "    if i == 2:\n",
    "        test = test[2:]\n",
    "        i = 0\n",
    "\n",
    "    i += 1\n",
    "print(\"DONE\")\n",
    "print(buffer)\n",
    "    \n"
   ]
  },
  {
   "cell_type": "code",
   "execution_count": 36,
   "metadata": {},
   "outputs": [
    {
     "output_type": "stream",
     "name": "stdout",
     "text": "(ROOT\n  (SBARQ\n    (WHNP (WP what))\n    (SQ\n      (VBZ is)\n      (NP\n        (NP (DT the) (NN color))\n        (PP\n          (IN of)\n          (NP\n            (NP (DT a) (VB swallow))\n            (, ,)\n            (NP (DT a) (NN robin))\n            (, ,)\n            (CC and)\n            (NP (DT a) (NN cardinal))))))\n    (. ?)))\n\n[Tree('ROOT', [Tree('SBARQ', [Tree('WHNP', [Tree('WP', ['what'])]), Tree('SQ', [Tree('VBZ', ['is']), Tree('NP', [Tree('NP', [Tree('DT', ['the']), Tree('NN', ['color'])]), Tree('PP', [Tree('IN', ['of']), Tree('NP', [Tree('NP', [Tree('DT', ['a']), Tree('VB', ['swallow'])]), Tree(',', [',']), Tree('NP', [Tree('DT', ['a']), Tree('NN', ['robin'])]), Tree(',', [',']), Tree('CC', ['and']), Tree('NP', [Tree('DT', ['a']), Tree('NN', ['cardinal'])])])])])]), Tree('.', ['?'])])])]\n\n[\"[Tree('ROOT'\", \"[Tree('SBARQ'\", \"[Tree('WHNP'\", \"[Tree('WP'\", \"['what'])])\", \"Tree('SQ'\", \"[Tree('VBZ'\", \"['is'])\", \"Tree('NP'\", \"[Tree('NP'\", \"[Tree('DT'\", \"['the'])\", \"Tree('NN'\", \"['color'])])\", \"Tree('PP'\", \"[Tree('IN'\", \"['of'])\", \"Tree('NP'\", \"[Tree('NP'\", \"[Tree('DT'\", \"['a'])\", \"Tree('VB'\", \"['swallow'])])\", \"Tree(','\", \"[','])\", \"Tree('NP'\", \"[Tree('DT'\", \"['a'])\", \"Tree('NN'\", \"['robin'])])\", \"Tree(','\", \"[','])\", \"Tree('CC'\", \"['and'])\", \"Tree('NP'\", \"[Tree('DT'\", \"['a'])\", \"Tree('NN'\", \"['cardinal'])])])])])])\", \"Tree('.'\", \"['?'])])])]\"]\n"
    }
   ],
   "source": [
    "print(parsed_list[0])\n",
    "print()\n",
    "print(str(parsed_list))\n",
    "print()\n",
    "print(str(parsed_list).split(', '))"
   ]
  },
  {
   "cell_type": "code",
   "execution_count": 25,
   "metadata": {},
   "outputs": [
    {
     "output_type": "stream",
     "name": "stdout",
     "text": "<class 'list'>\nIndex: 0\nHello, How are you doing?\nLength: 25\nIndex: 1\nHello, How are you doing?\nLength: 25\nIndex: 2\nHello, How are you doing?\nLength: 25\nIndex: 3\nHello, How are you doing?\nLength: 25\nIndex: 4\nHello, How are you doing?\nLength: 25\nIndex: 5\nHello, How are you doing?\nLength: 25\nIndex: 6\nHello, How are you doing?\nLength: 25\nIndex: 7\nHello, How are you doing?\nLength: 25\nIndex: 8\nHello, How are you doing?\nLength: 25\nIndex: 9\nHello, How are you doing?\nLength: 25\nIndex: 10\nHello, How are you doing?\nLength: 25\nIndex: 11\nHello, How are you doing?\nLength: 25\nIndex: 12\nHello, How are you doing?\nLength: 25\nIndex: 13\nHello, How are you doing?\nLength: 25\nIndex: 14\nHello, How are you doing?\nLength: 25\nIndex: 15\nHello, How are you doing?\nLength: 25\nIndex: 16\nHello, How are you doing?\nLength: 25\nIndex: 17\nHello, How are you doing?\nLength: 25\nIndex: 18\nHello, How are you doing?\nLength: 25\nIndex: 19\nHello, How are you doing?\nLength: 25\nIndex: 20\nHello, How are you doing?\nLength: 25\nIndex: 21\nHello, How are you doing?\nLength: 25\nIndex: 22\nHello, How are you doing?\nLength: 25\nIndex: 23\nHello, How are you doing?\nLength: 25\nIndex: 24\nHello, How are you doing?\nLength: 25\nDONE\nHello, How are you doing?\n"
    }
   ],
   "source": [
    "#NOTE: 2) Store parse tree in dictionary format; If SQ appears, set flag that it is a yes/no question; If SBARQ appears, save which wh-question word appeared\n",
    "#Find auxilary verb before NP if there to be moved\n",
    "#Find end of first major NP\n",
    "\n",
    "yes_no_flag = False\n",
    "wh_flag = False\n",
    "\n",
    "wh_word = \"\"\n",
    "aux_verb = \"\"\n",
    "wh_save_next = False\n",
    "np_seen = False\n",
    "aux_save_next = False\n",
    "\n",
    "#paran = 0 #+1 for [ and -1 for ]\n",
    "\n",
    "split_list = str(parsed_list).split(', ')\n",
    "\n",
    "for item in split_list:\n",
    "\n",
    "    if item == \"[Tree('SBARQ'\":\n",
    "        wh_flag = True\n",
    "        i = 0\n",
    "        buffer = \"\"\n",
    "\n",
    "    if wh_flag and item == \"[Tree('WP'\":\n",
    "        wh_save_next = True\n",
    "    else if wh_save_next:\n",
    "        wh_save_next = False\n",
    "        wh_word = item\n",
    "\n",
    "    if not np_seen and item == \"[Tree('VBZ'\": #NOTE: May need to change to handle all possible verb classifications\n",
    "        aux_save_next = True\n",
    "    else if aux_save_next:\n",
    "        aux_save_next = False\n",
    "        aux_verb = item\n",
    "\n",
    "print(\"DONE\")\n",
    "print(buffer)\n"
   ]
  },
  {
   "cell_type": "code",
   "execution_count": 43,
   "metadata": {},
   "outputs": [
    {
     "output_type": "stream",
     "name": "stdout",
     "text": "<list_iterator object at 0x11d321d10>\n<list_iterator object at 0x11d32b410>\n<list_iterator object at 0x11d0c96d0>\n<list_iterator object at 0x11d1ffb10>\n<list_iterator object at 0x11d0c9490>\n<list_iterator object at 0x11ced26d0>\n<list_iterator object at 0x11d106110>\n<list_iterator object at 0x11d302690>\n"
    }
   ],
   "source": [
    "sentence = \"Gyarados (ギャラドス, Gyaradosu,  or ) is a Pokémon species in Nintendo and Game Freak's Pokémon franchise. Created by Ken Sugimori, Gyarados first appeared in the video games Pokémon Red and Pokemon Green and subsequent sequels, later appearing in various merchandise, spinoff titles and animated and printed adaptations of the franchise.\"\n",
    "\n",
    "parser = CoreNLPParser(url='http://localhost:9002')\n",
    "#Test with the parser and types of potentially formatted questions\n",
    "query1 = \"what is Gyrados most similar in appearance to\"\n",
    "query2 = \"where is Gyrados first seen\" #This requires noting \"appeared\" and \"seen\" would be synonyms\n",
    "query3 = \"where is a red Gyarados found in Pokémon Gold\"\n",
    "query4 = \"what franchise is Gyarados in?\" #Note: the word \"franchise\" is lost in the regex, but would still be used in the query\n",
    "query5 = \"who is Gyarados voiced by\"\n",
    "query6 = \"what is Gyarados known as\"\n",
    "query7 = \"how is the growth of Gyarados from Pokémon Diamond and Pearl to Pokémon Black and White described by IGN\"\n",
    "query8 = \"is Gyarados in the Pokémon franchise\"\n",
    "#Note: Question could not start with wh-question word - eg. \"Gyarados is voiced by who?\"\n",
    "\n",
    "queryList = [query1, query2, query3, query4, query5, query6, query7, query8]\n",
    "listEntries = []\n",
    "entries = []\n",
    "for q in queryList:\n",
    "    result = parser.parse(q.split())\n",
    "    listResult = list(result)\n",
    "    entries.append(result)\n",
    "    listEntries.append(listResult)\n",
    "    print(listResult)\n"
   ]
  },
  {
   "cell_type": "code",
   "execution_count": 45,
   "metadata": {},
   "outputs": [
    {
     "output_type": "error",
     "ename": "AttributeError",
     "evalue": "'list_iterator' object has no attribute '__dict__'",
     "traceback": [
      "\u001b[0;31m---------------------------------------------------------------------------\u001b[0m",
      "\u001b[0;31mAttributeError\u001b[0m                            Traceback (most recent call last)",
      "\u001b[0;32m<ipython-input-45-5d0ef0c286ac>\u001b[0m in \u001b[0;36m<module>\u001b[0;34m\u001b[0m\n\u001b[0;32m----> 1\u001b[0;31m \u001b[0mentries\u001b[0m\u001b[0;34m[\u001b[0m\u001b[0;36m0\u001b[0m\u001b[0;34m]\u001b[0m\u001b[0;34m.\u001b[0m\u001b[0m__dict__\u001b[0m\u001b[0;34m\u001b[0m\u001b[0;34m\u001b[0m\u001b[0m\n\u001b[0m",
      "\u001b[0;31mAttributeError\u001b[0m: 'list_iterator' object has no attribute '__dict__'"
     ]
    }
   ],
   "source": [
    "print(next(entries[0]))"
   ]
  },
  {
   "cell_type": "code",
   "execution_count": null,
   "metadata": {},
   "outputs": [],
   "source": []
  }
 ]
}