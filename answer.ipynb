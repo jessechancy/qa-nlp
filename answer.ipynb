{
 "nbformat": 4,
 "nbformat_minor": 2,
 "metadata": {
  "language_info": {
   "name": "python",
   "codemirror_mode": {
    "name": "ipython",
    "version": 3
   },
   "version": "3.7.4-final"
  },
  "orig_nbformat": 2,
  "file_extension": ".py",
  "mimetype": "text/x-python",
  "name": "python",
  "npconvert_exporter": "python",
  "pygments_lexer": "ipython3",
  "version": 3,
  "kernelspec": {
   "name": "python37464bit58b581aa823b48d68caa55b91f5030c4",
   "display_name": "Python 3.7.4 64-bit"
  }
 },
 "cells": [
  {
   "cell_type": "markdown",
   "metadata": {},
   "source": [
    "# In Progress Question Answering System\n",
    "\n",
    "Current iteration of the question answering system"
   ]
  },
  {
   "cell_type": "code",
   "execution_count": 3,
   "metadata": {},
   "outputs": [],
   "source": [
    "from nltk.corpus import stopwords \n",
    "from nltk.tokenize import word_tokenize "
   ]
  },
  {
   "cell_type": "code",
   "execution_count": 4,
   "metadata": {},
   "outputs": [],
   "source": [
    "#Example Questions - From regex test\n",
    "\n",
    "query1 = \"What is Gyrados most similar in appearance to?\"\n",
    "query2 = \"Where is Gyrados first seen?\" #This requires noting \"appeared\" and \"seen\" would be synonyms\n",
    "query3 = \"Where is a red Gyarados found in Pokémon Gold?\"\n",
    "query4 = \"What franchise is Gyarados in?\" #Note: the word \"franchise\" is lost in the regex, but would still be used in the query\n",
    "query5 = \"Who is Gyarados voiced by?\"\n",
    "query6 = \"What is Gyarados known as?\"\n",
    "query7 = \"How is the growth of Gyarados from Pokémon Diamond and Pearl to Pokémon Black and White described by IGN?\"\n",
    "#Note: Question could not start with wh-question word - eg. \"Gyarados is voiced by who?\""
   ]
  },
  {
   "cell_type": "code",
   "execution_count": 19,
   "metadata": {},
   "outputs": [],
   "source": [
    "\n",
    "#Inputs are sets of words that are tokenized and have all unnecessary words removed\n",
    "def cosine_sim(t1_set, t2_set):\n",
    "\n",
    "    combined_set = t1_set.union(t2_set)\n",
    "\n",
    "    v1 = []\n",
    "    v2 = []\n",
    "\n",
    "    #Create vectors based on unique word occurrences\n",
    "    for word in combined_set:\n",
    "        if word in t1_set: \n",
    "            v1.append(1) # create a vector \n",
    "        else: \n",
    "            v1.append(0) \n",
    "\n",
    "        if word in t2_set: \n",
    "            v2.append(1) \n",
    "        else: \n",
    "            v2.append(0) \n",
    "\n",
    "    matches = 0\n",
    "    #Cosine Formula  \n",
    "    for i in range(len(combined_set)): \n",
    "            matches += v1[i] * v2[i] \n",
    "    cosine = matches / float((sum(v1)*sum(v2))**0.5) \n",
    "    #print(\"similarity: \", cosine) \n",
    "    return cosine\n"
   ]
  },
  {
   "cell_type": "code",
   "execution_count": 17,
   "metadata": {},
   "outputs": [],
   "source": [
    "#Preprocess document for queries\n",
    "sentences = []\n",
    "\n",
    "with open(\"noun_counting_data/a1.txt\") as f: #FIXME: In actual implementation, have this be a line from article.txt, argument 1 of the command line\n",
    "    text = f.read()\n",
    "    paragraphs = text.split(\"\\n\")\n",
    "    for entry in paragraphs:\n",
    "        split_entries = entry.split(\".\")\n",
    "        for se in split_entries:\n",
    "            if len(se) > 0: #Get rid of empty lines\n",
    "                sentences.append(se)\n",
    "                \n",
    "#print(sentences)\n"
   ]
  },
  {
   "cell_type": "markdown",
   "metadata": {},
   "source": [
    "# Forming answer if previous methods do not work\n",
    "\n",
    "This can be used as a last resort if the more complex methods for yes/no & wh-questions do not work"
   ]
  },
  {
   "cell_type": "code",
   "execution_count": 45,
   "metadata": {},
   "outputs": [],
   "source": [
    "def answer(q):\n",
    "    qt = word_tokenize(q)\n",
    "\n",
    "    #Things to remove\n",
    "    wh = {\"Where\", \"What\", \"Who\", \"How\", \"Why\", \"When\"}\n",
    "    func = {\"a\", \"an\", \"the\"}\n",
    "    stops = stopwords.words('english') \n",
    "\n",
    "    total = wh.union(func).union(stops)\n",
    "\n",
    "    #TODO: Experiment with what to include as a \"function word\" for elimination purposes\n",
    "    #https://www.thoughtco.com/function-word-grammar-1690876\n",
    "\n",
    "    q_set = {word for word in qt if not word in total}  \n",
    "    results = dict()\n",
    "\n",
    "    for s in sentences:\n",
    "\n",
    "        st = word_tokenize(s)\n",
    "        s_set = {word for word in st if not word in stops} \n",
    "\n",
    "        k = cosine_sim(q_set, s_set) \n",
    "        results[k] = s #NOTE: Collisions will just result in later sentences being preferred\n",
    "\n",
    "    keys = sorted(results.keys(), reverse=True)\n",
    "\n",
    "    #print(keys)\n",
    "    #print(keys[0])\n",
    "\n",
    "    answer = results[keys[0]] + \".\"\n",
    "    print()\n",
    "    print(q)\n",
    "    print(answer)\n",
    "    print()\n",
    "\n",
    "    '''\n",
    "    print(\"All recorded sentences\")\n",
    "    for k in keys:\n",
    "        print(results[k])\n",
    "        print()\n",
    "    '''\n"
   ]
  },
  {
   "cell_type": "code",
   "execution_count": 46,
   "metadata": {},
   "outputs": [
    {
     "name": "stdout",
     "output_type": "stream",
     "text": "\nWhat is Gyrados most similar in appearance to?\nGyarados is a large sea serpent Pokémon most similar in appearance to dragons seen in Chinese mythology.\n\n\nWhere is Gyrados first seen?\n It was then seen in Pokémon Shipwreck, where James kicked his Magikarp out of frustration, and it evolved into a Gyarados.\n\n\nWhere is a red Gyarados found in Pokémon Gold?\n In Pokémon Gold, Silver, and Crystal, and their remakes, a red Gyarados is found in the Lake of Rage.\n\n\nWhat franchise is Gyarados in?\nGyarados.\n\n\nWho is Gyarados voiced by?\nGyarados.\n\n\nWhat is Gyarados known as?\nGyarados.\n\n\nHow is the growth of Gyarados from Pokémon Diamond and Pearl to Pokémon Black and White described by IGN?\n IGN described the growth from Pokémon Diamond and Pearl to Pokémon Black and White'' as possibly being the \"series' biggest evolution since Magikarp morphed into Gyarados\".\n\n"
    }
   ],
   "source": [
    "#FIXME: In actual implementation, have these be lines from questions.txt, argument 2 of the command line\n",
    "questions = [query1, query2, query3, query4, query5, query6, query7] \n",
    "#count = 1\n",
    "for q in questions: \n",
    "    #print(count)\n",
    "    answer(q)\n",
    "    #count += 1"
   ]
  },
  {
   "cell_type": "code",
   "execution_count": 47,
   "metadata": {},
   "outputs": [
    {
     "name": "stdout",
     "output_type": "stream",
     "text": "Q4\n\nWhat franchise is Gyarados in?\nGyarados.\n\n"
    }
   ],
   "source": [
    "#FIXME: Not to include in final\n",
    "#Test q4 and see why the sentence with the word \"franchise\" is doing worse\n",
    "\n",
    "print(\"Q4\")\n",
    "answer(query4)"
   ]
  },
  {
   "cell_type": "code",
   "execution_count": null,
   "metadata": {},
   "outputs": [],
   "source": []
  }
 ]
}