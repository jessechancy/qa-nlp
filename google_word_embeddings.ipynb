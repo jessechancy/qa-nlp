{
 "nbformat": 4,
 "nbformat_minor": 2,
 "metadata": {
  "language_info": {
   "name": "python",
   "codemirror_mode": {
    "name": "ipython",
    "version": 3
   }
  },
  "orig_nbformat": 2,
  "file_extension": ".py",
  "mimetype": "text/x-python",
  "name": "python",
  "npconvert_exporter": "python",
  "pygments_lexer": "ipython3",
  "version": 3
 },
 "cells": [
  {
   "cell_type": "markdown",
   "metadata": {},
   "source": [
    "# How to use and setup pretrained Google Word Embeddings with Cosine Similarity\n",
    "\n",
    "Note: This uses a lot of RAM\n",
    "\n",
    "This provides the basic instructions for how to set it up, but I will also include it in the code below\n",
    "http://mccormickml.com/2016/04/12/googles-pretrained-word2vec-model-in-python/\n",
    "\n",
    "The bin file needs to be downloaded before using this, so it should also be noted the file is ~1.5GB\n",
    "\n",
    "Note: This also could be explored https://spacy.io/usage/vectors-similarity\n"
   ]
  },
  {
   "cell_type": "code",
   "execution_count": null,
   "metadata": {},
   "outputs": [],
   "source": [
    "#https://masongallo.github.io/machine/learning,/python/2016/07/29/cosine-similarity.html\n",
    "def cos_sim(a, b):\n",
    "\t\"\"\"Takes 2 vectors a, b and returns the cosine similarity according \n",
    "\tto the definition of the dot product\n",
    "\t\"\"\"\n",
    "\tdot_product = np.dot(a, b)\n",
    "\tnorm_a = np.linalg.norm(a)\n",
    "\tnorm_b = np.linalg.norm(b)\n",
    "\treturn dot_product / (norm_a * norm_b)\n"
   ]
  },
  {
   "cell_type": "code",
   "execution_count": null,
   "metadata": {},
   "outputs": [],
   "source": [
    "import gensim\n",
    "\n",
    "# Load Google's pre-trained Word2Vec model.\n",
    "model = gensim.models.KeyedVectors.load_word2vec_format('/Users/MichaelaLaurencin/Desktop/MS_CMU_19-20/Semester_2/Ethics\\ NLP/Hw3/GoogleNews-vectors-negative300.bin', binary=True)  \n",
    "#model = gensim.models.KeyedVectors.load_word2vec_format('GoogleNews-vectors-negative300.bin', binary=True)  \n",
    "word_vectors = model.wv #Note: This says it will be deprecated, but I could not get the recommended new method to work\n",
    "del model\n",
    "example = word_vectors[\"wife\"]\n",
    "print(example)\n",
    "\n",
    "# Cosine Similarity with these vectors\n",
    "X = word_vectors[\"wife\"]\n",
    "Y = word_vectors[\"husband\"]\n",
    "\n",
    "X = X.reshape(-1, 1).flatten()\n",
    "Y = Y.reshape(-1, 1).flatten()\n",
    "singular_val = cos_sim(X, Y)\n",
    "\n",
    "print(singular_val)\n"
   ]
  }
 ]
}