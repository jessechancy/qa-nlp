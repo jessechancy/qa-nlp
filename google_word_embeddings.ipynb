{
 "nbformat": 4,
 "nbformat_minor": 2,
 "metadata": {
  "language_info": {
   "name": "python",
   "codemirror_mode": {
    "name": "ipython",
    "version": 3
   }
  },
  "orig_nbformat": 2,
  "file_extension": ".py",
  "mimetype": "text/x-python",
  "name": "python",
  "npconvert_exporter": "python",
  "pygments_lexer": "ipython3",
  "version": 3
 },
 "cells": [
  {
   "cell_type": "markdown",
   "metadata": {},
   "source": [
    "# How to use and setup pretrained Google Word Embeddings\n",
    "\n",
    "Note: This uses a lot of RAM\n",
    "\n",
    "This provides the basic instructions for how to set it up, but I will also include it in the code below\n",
    "http://mccormickml.com/2016/04/12/googles-pretrained-word2vec-model-in-python/\n",
    "\n",
    "The bin file needs to be downloaded before using this, so it should also be noted the file is ~1.5GB"
   ]
  },
  {
   "cell_type": "code",
   "execution_count": null,
   "metadata": {},
   "outputs": [],
   "source": [
    "import gensim\n",
    "\n",
    "# Load Google's pre-trained Word2Vec model.\n",
    "model = gensim.models.KeyedVectors.load_word2vec_format('GoogleNews-vectors-negative300.bin', binary=True)  \n",
    "word_vectors = model.wv #Note: This says it will be deprecated, but I could not get the recommended new method to work\n",
    "del model\n",
    "example = word_vectors[\"wife\"]\n",
    "print(example)"
   ]
  }
 ]
}