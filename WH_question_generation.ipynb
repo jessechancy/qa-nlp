{
 "cells": [
  {
   "cell_type": "code",
   "execution_count": 7,
   "metadata": {},
   "outputs": [
    {
     "name": "stdout",
     "output_type": "stream",
     "text": [
      "[{'GPE': [['Los', 'NNP'], ['Angeles', 'NNP']]}, ['has', 'VBZ'], ['a', 'DT'], {'GPE': [['Gyarados', 'NNP']]}, ['(', '('], {'ORGANIZATION': [['ギャラドス', 'NNP']]}, [',', ','], {'PERSON': [['Gyaradosu', 'NNP']]}, [',', ','], ['or', 'CC'], [')', ')'], ['is', 'VBZ'], ['a', 'DT'], ['Pokémon', 'JJ'], ['species', 'NNS'], ['in', 'IN'], {'GPE': [['Nintendo', 'NNP']]}, ['and', 'CC'], {'PERSON': [['Game', 'NNP'], ['Freak', 'NNP']]}, [\"'s\", 'POS'], {'ORGANIZATION': [['Pokémon', 'NNP']]}, ['franchise', 'NN'], ['.', '.'], ['Created', 'VBN'], ['by', 'IN'], {'PERSON': [['Ken', 'NNP'], ['Sugimori', 'NNP']]}, [',', ','], {'PERSON': [['Gyarados', 'NNP']]}, ['first', 'RB'], ['appeared', 'VBD'], ['in', 'IN'], ['the', 'DT'], ['video', 'NN'], ['games', 'NNS'], {'PERSON': [['Pokémon', 'NNP'], ['Red', 'NNP']]}, ['and', 'CC'], {'PERSON': [['Pokemon', 'NNP'], ['Green', 'NNP']]}, ['and', 'CC'], ['subsequent', 'JJ'], ['sequels', 'NNS'], [',', ','], ['later', 'RB'], ['appearing', 'VBG'], ['in', 'IN'], ['various', 'JJ'], ['merchandise', 'NN'], [',', ','], ['spinoff', 'NN'], ['titles', 'NNS'], ['and', 'CC'], ['animated', 'VBN'], ['and', 'CC'], ['printed', 'VBN'], ['adaptations', 'NNS'], ['of', 'IN'], ['the', 'DT'], ['franchise', 'NN'], ['.', '.'], {'PERSON': [['Gyarados', 'NNP']]}, ['is', 'VBZ'], ['voiced', 'VBN'], ['by', 'IN'], {'PERSON': [['Unshō', 'NNP'], ['Ishizuka', 'NNP']]}, ['in', 'IN'], ['both', 'DT'], {'GPE': [['Japanese', 'NNP']]}, ['and', 'CC'], {'GPE': [['English', 'JJ']]}, ['media', 'NNS'], ['.', '.']]\n"
     ]
    }
   ],
   "source": [
    "import json\n",
    "\n",
    "with open(\"../Development_data/set1/data.json\",\"r\") as f:\n",
    "    testEntry1 = json.loads(f.read())\n",
    "\n",
    "sentence = testEntry1[\"S\"]\n"
   ]
  },
  {
   "cell_type": "code",
   "execution_count": null,
   "metadata": {},
   "outputs": [],
   "source": []
  }
 ],
 "metadata": {
  "kernelspec": {
   "display_name": "Python 3",
   "language": "python",
   "name": "python3"
  },
  "language_info": {
   "codemirror_mode": {
    "name": "ipython",
    "version": 3
   },
   "file_extension": ".py",
   "mimetype": "text/x-python",
   "name": "python",
   "nbconvert_exporter": "python",
   "pygments_lexer": "ipython3",
   "version": "3.7.4"
  }
 },
 "nbformat": 4,
 "nbformat_minor": 4
}
