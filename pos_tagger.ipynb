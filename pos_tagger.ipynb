{
 "cells": [
  {
   "cell_type": "markdown",
   "metadata": {},
   "source": [
    "# Part Of Speech Tagger\n",
    "\n",
    "Given a list of words, how can we classify each word to a meaning."
   ]
  },
  {
   "cell_type": "code",
   "execution_count": 16,
   "metadata": {},
   "outputs": [],
   "source": [
    "import nltk"
   ]
  },
  {
   "cell_type": "markdown",
   "metadata": {},
   "source": [
    "#### Installation (In command line):\n",
    "\n",
    "    pip install nltk\n",
    "    python -m nltk.downloader averaged_perceptron_tagger\n",
    "    python -m nltk.downloader tagsets"
   ]
  },
  {
   "cell_type": "code",
   "execution_count": 17,
   "metadata": {},
   "outputs": [],
   "source": [
    "word_list = ['Gyarados', '(', 'ギャラドス', ',', 'Gyaradosu', ',', 'or', ')', 'is', 'a', 'Pokémon', 'species', 'in', 'Nintendo', 'and', 'Game', 'Freak', \"'s\", 'Pokémon', 'franchise', '.', 'Created', 'by', 'Ken', 'Sugimori', ',', 'Gyarados', 'first', 'appeared', 'in', 'the', 'video', 'games', 'Pokémon', 'Red', 'and', 'Pokemon', 'Green', 'and', 'subsequent', 'sequels', ',', 'later', 'appearing', 'in', 'various', 'merchandise', ',', 'spinoff', 'titles', 'and', 'animated', 'and', 'printed', 'adaptations', 'of', 'the', 'franchise', '.', 'Gyarados', 'is', 'voiced', 'by', 'Unshō', 'Ishizuka', 'in', 'both', 'Japanese', 'and', 'English', 'media', '.']"
   ]
  },
  {
   "cell_type": "code",
   "execution_count": 18,
   "metadata": {},
   "outputs": [],
   "source": [
    "def pos_tagger(docs):\n",
    "    return nltk.pos_tag(docs)"
   ]
  },
  {
   "cell_type": "code",
   "execution_count": 19,
   "metadata": {},
   "outputs": [
    {
     "name": "stdout",
     "output_type": "stream",
     "text": [
      "[('Gyarados', 'NNP'), ('(', '('), ('ギャラドス', 'NNP'), (',', ','), ('Gyaradosu', 'NNP'), (',', ','), ('or', 'CC'), (')', ')'), ('is', 'VBZ'), ('a', 'DT'), ('Pokémon', 'JJ'), ('species', 'NNS'), ('in', 'IN'), ('Nintendo', 'NNP'), ('and', 'CC'), ('Game', 'NNP'), ('Freak', 'NNP'), (\"'s\", 'POS'), ('Pokémon', 'NNP'), ('franchise', 'NN'), ('.', '.'), ('Created', 'VBN'), ('by', 'IN'), ('Ken', 'NNP'), ('Sugimori', 'NNP'), (',', ','), ('Gyarados', 'NNP'), ('first', 'RB'), ('appeared', 'VBD'), ('in', 'IN'), ('the', 'DT'), ('video', 'NN'), ('games', 'NNS'), ('Pokémon', 'NNP'), ('Red', 'NNP'), ('and', 'CC'), ('Pokemon', 'NNP'), ('Green', 'NNP'), ('and', 'CC'), ('subsequent', 'JJ'), ('sequels', 'NNS'), (',', ','), ('later', 'RB'), ('appearing', 'VBG'), ('in', 'IN'), ('various', 'JJ'), ('merchandise', 'NN'), (',', ','), ('spinoff', 'NN'), ('titles', 'NNS'), ('and', 'CC'), ('animated', 'VBN'), ('and', 'CC'), ('printed', 'VBN'), ('adaptations', 'NNS'), ('of', 'IN'), ('the', 'DT'), ('franchise', 'NN'), ('.', '.'), ('Gyarados', 'NNP'), ('is', 'VBZ'), ('voiced', 'VBN'), ('by', 'IN'), ('Unshō', 'NNP'), ('Ishizuka', 'NNP'), ('in', 'IN'), ('both', 'DT'), ('Japanese', 'NNP'), ('and', 'CC'), ('English', 'JJ'), ('media', 'NNS'), ('.', '.')]\n"
     ]
    }
   ],
   "source": [
    "print(pos_tagger(word_list))"
   ]
  },
  {
   "cell_type": "markdown",
   "metadata": {},
   "source": [
    "### Tags\n",
    "\n",
    "full list here: https://www.ling.upenn.edu/courses/Fall_2003/ling001/penn_treebank_pos.html"
   ]
  },
  {
   "cell_type": "code",
   "execution_count": 21,
   "metadata": {},
   "outputs": [
    {
     "name": "stdout",
     "output_type": "stream",
     "text": [
      "NNP: noun, proper, singular\n",
      "    Motown Venneboerger Czestochwa Ranzer Conchita Trumplane Christos\n",
      "    Oceanside Escobar Kreisler Sawyer Cougar Yvette Ervin ODI Darryl CTCA\n",
      "    Shannon A.K.C. Meltex Liverpool ...\n"
     ]
    }
   ],
   "source": [
    "#Run this on a specific tag to get information about it\n",
    "nltk.help.upenn_tagset(\"NNP\")"
   ]
  }
 ],
 "metadata": {
  "kernelspec": {
   "display_name": "assignment_2",
   "language": "python",
   "name": "assignment_2"
  },
  "language_info": {
   "codemirror_mode": {
    "name": "ipython",
    "version": 3
   },
   "file_extension": ".py",
   "mimetype": "text/x-python",
   "name": "python",
   "nbconvert_exporter": "python",
   "pygments_lexer": "ipython3",
   "version": "3.7.2"
  }
 },
 "nbformat": 4,
 "nbformat_minor": 2
}
