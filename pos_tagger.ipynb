{
 "cells": [
  {
   "cell_type": "markdown",
   "metadata": {},
   "source": [
    "# Question Generation\n",
    "\n",
    "1. Part of Speech Tagger\n",
    "2. Text Chunking\n",
    "3. Yes/No Question Generation"
   ]
  },
  {
   "cell_type": "markdown",
   "metadata": {},
   "source": [
    "# Part Of Speech Tagger\n",
    "\n",
    "Given a list of words, how can we classify each word to a meaning."
   ]
  },
  {
   "cell_type": "code",
   "execution_count": 1,
   "metadata": {},
   "outputs": [],
   "source": [
    "import nltk"
   ]
  },
  {
   "cell_type": "markdown",
   "metadata": {},
   "source": [
    "#### Installation (In command line):\n",
    "\n",
    "    pip install nltk\n",
    "    python -m nltk.downloader averaged_perceptron_tagger\n",
    "    python -m nltk.downloader tagsets"
   ]
  },
  {
   "cell_type": "code",
   "execution_count": 34,
   "metadata": {},
   "outputs": [],
   "source": [
    "word_list = ['Los', 'Angeles', 'has', 'a', 'Gyarados', '(', 'ギャラドス', ',', 'Gyaradosu', ',', 'or', ')', 'is', 'a', 'Pokémon', 'species', 'in', 'Nintendo', 'and', 'Game', 'Freak', \"'s\", 'Pokémon', 'franchise', '.', 'Created', 'by', 'Ken', 'Sugimori', ',', 'Gyarados', 'first', 'appeared', 'in', 'the', 'video', 'games', 'Pokémon', 'Red', 'and', 'Pokemon', 'Green', 'and', 'subsequent', 'sequels', ',', 'later', 'appearing', 'in', 'various', 'merchandise', ',', 'spinoff', 'titles', 'and', 'animated', 'and', 'printed', 'adaptations', 'of', 'the', 'franchise', '.', 'Gyarados', 'is', 'voiced', 'by', 'Unshō', 'Ishizuka', 'in', 'both', 'Japanese', 'and', 'English', 'media', '.']"
   ]
  },
  {
   "cell_type": "code",
   "execution_count": 35,
   "metadata": {},
   "outputs": [],
   "source": [
    "def pos_tagger(docs):\n",
    "    return nltk.pos_tag(docs)"
   ]
  },
  {
   "cell_type": "code",
   "execution_count": 36,
   "metadata": {},
   "outputs": [
    {
     "name": "stdout",
     "output_type": "stream",
     "text": [
      "[('Los', 'NNP'), ('Angeles', 'NNP'), ('has', 'VBZ'), ('a', 'DT'), ('Gyarados', 'NNP'), ('(', '('), ('ギャラドス', 'NNP'), (',', ','), ('Gyaradosu', 'NNP'), (',', ','), ('or', 'CC'), (')', ')'), ('is', 'VBZ'), ('a', 'DT'), ('Pokémon', 'JJ'), ('species', 'NNS'), ('in', 'IN'), ('Nintendo', 'NNP'), ('and', 'CC'), ('Game', 'NNP'), ('Freak', 'NNP'), (\"'s\", 'POS'), ('Pokémon', 'NNP'), ('franchise', 'NN'), ('.', '.'), ('Created', 'VBN'), ('by', 'IN'), ('Ken', 'NNP'), ('Sugimori', 'NNP'), (',', ','), ('Gyarados', 'NNP'), ('first', 'RB'), ('appeared', 'VBD'), ('in', 'IN'), ('the', 'DT'), ('video', 'NN'), ('games', 'NNS'), ('Pokémon', 'NNP'), ('Red', 'NNP'), ('and', 'CC'), ('Pokemon', 'NNP'), ('Green', 'NNP'), ('and', 'CC'), ('subsequent', 'JJ'), ('sequels', 'NNS'), (',', ','), ('later', 'RB'), ('appearing', 'VBG'), ('in', 'IN'), ('various', 'JJ'), ('merchandise', 'NN'), (',', ','), ('spinoff', 'NN'), ('titles', 'NNS'), ('and', 'CC'), ('animated', 'VBN'), ('and', 'CC'), ('printed', 'VBN'), ('adaptations', 'NNS'), ('of', 'IN'), ('the', 'DT'), ('franchise', 'NN'), ('.', '.'), ('Gyarados', 'NNP'), ('is', 'VBZ'), ('voiced', 'VBN'), ('by', 'IN'), ('Unshō', 'NNP'), ('Ishizuka', 'NNP'), ('in', 'IN'), ('both', 'DT'), ('Japanese', 'NNP'), ('and', 'CC'), ('English', 'JJ'), ('media', 'NNS'), ('.', '.')]\n"
     ]
    }
   ],
   "source": [
    "tags = pos_tagger(word_list)\n",
    "print(tags)"
   ]
  },
  {
   "cell_type": "markdown",
   "metadata": {},
   "source": [
    "### Tags\n",
    "\n",
    "full list here: https://www.ling.upenn.edu/courses/Fall_2003/ling001/penn_treebank_pos.html"
   ]
  },
  {
   "cell_type": "code",
   "execution_count": 37,
   "metadata": {},
   "outputs": [
    {
     "name": "stdout",
     "output_type": "stream",
     "text": [
      "JJ: adjective or numeral, ordinal\n",
      "    third ill-mannered pre-war regrettable oiled calamitous first separable\n",
      "    ectoplasmic battery-powered participatory fourth still-to-be-named\n",
      "    multilingual multi-disciplinary ...\n"
     ]
    }
   ],
   "source": [
    "#Run this on a specific tag to get information about it\n",
    "nltk.help.upenn_tagset(\"JJ\")"
   ]
  },
  {
   "cell_type": "markdown",
   "metadata": {},
   "source": [
    "# Chunking\n",
    "\n",
    "Given pos tagged words, we want to chunk certain words like \"South\" and \"Africa\" together for greater contextual meaning"
   ]
  },
  {
   "cell_type": "markdown",
   "metadata": {},
   "source": [
    "#### Installation (In command line):\n",
    "\n",
    "    python -m nltk.downloader maxent_ne_chunker"
   ]
  },
  {
   "cell_type": "code",
   "execution_count": 38,
   "metadata": {},
   "outputs": [],
   "source": [
    "#nltk.download('maxent_ne_chunker')\n",
    "#nltk.download('words')"
   ]
  },
  {
   "cell_type": "code",
   "execution_count": 41,
   "metadata": {},
   "outputs": [
    {
     "name": "stdout",
     "output_type": "stream",
     "text": [
      "Tree('S', [Tree('GPE', [('Los', 'NNP'), ('Angeles', 'NNP')]), ('has', 'VBZ'), ('a', 'DT'), Tree('GPE', [('Gyarados', 'NNP')]), ('(', '('), Tree('ORGANIZATION', [('ギャラドス', 'NNP')]), (',', ','), Tree('PERSON', [('Gyaradosu', 'NNP')]), (',', ','), ('or', 'CC'), (')', ')'), ('is', 'VBZ'), ('a', 'DT'), ('Pokémon', 'JJ'), ('species', 'NNS'), ('in', 'IN'), Tree('GPE', [('Nintendo', 'NNP')]), ('and', 'CC'), Tree('PERSON', [('Game', 'NNP'), ('Freak', 'NNP')]), (\"'s\", 'POS'), Tree('ORGANIZATION', [('Pokémon', 'NNP')]), ('franchise', 'NN'), ('.', '.'), ('Created', 'VBN'), ('by', 'IN'), Tree('PERSON', [('Ken', 'NNP'), ('Sugimori', 'NNP')]), (',', ','), Tree('PERSON', [('Gyarados', 'NNP')]), ('first', 'RB'), ('appeared', 'VBD'), ('in', 'IN'), ('the', 'DT'), ('video', 'NN'), ('games', 'NNS'), Tree('PERSON', [('Pokémon', 'NNP'), ('Red', 'NNP')]), ('and', 'CC'), Tree('PERSON', [('Pokemon', 'NNP'), ('Green', 'NNP')]), ('and', 'CC'), ('subsequent', 'JJ'), ('sequels', 'NNS'), (',', ','), ('later', 'RB'), ('appearing', 'VBG'), ('in', 'IN'), ('various', 'JJ'), ('merchandise', 'NN'), (',', ','), ('spinoff', 'NN'), ('titles', 'NNS'), ('and', 'CC'), ('animated', 'VBN'), ('and', 'CC'), ('printed', 'VBN'), ('adaptations', 'NNS'), ('of', 'IN'), ('the', 'DT'), ('franchise', 'NN'), ('.', '.'), Tree('PERSON', [('Gyarados', 'NNP')]), ('is', 'VBZ'), ('voiced', 'VBN'), ('by', 'IN'), Tree('PERSON', [('Unshō', 'NNP'), ('Ishizuka', 'NNP')]), ('in', 'IN'), ('both', 'DT'), Tree('GPE', [('Japanese', 'NNP')]), ('and', 'CC'), Tree('GPE', [('English', 'JJ')]), ('media', 'NNS'), ('.', '.')])\n"
     ]
    }
   ],
   "source": [
    "chunk = nltk.ne_chunk(tags)\n",
    "print(repr(chunk))"
   ]
  },
  {
   "cell_type": "code",
   "execution_count": 45,
   "metadata": {},
   "outputs": [],
   "source": [
    "from nltk import Tree\n",
    "import json\n",
    "\n",
    "def tree2dict(tree):\n",
    "    return {tree.label(): [tree2dict(t) if isinstance(t, Tree) else t for t in tree]}\n",
    "\n",
    "with open('data.json', 'w+') as f:\n",
    "    json.dump(tree2dict(chunk), f)"
   ]
  },
  {
   "cell_type": "markdown",
   "metadata": {},
   "source": [
    "# Yes/No Question Generation\n",
    "\n",
    "Given tagged and chunked words"
   ]
  },
  {
   "cell_type": "code",
   "execution_count": null,
   "metadata": {},
   "outputs": [],
   "source": [
    "#Update stuff"
   ]
  }
 ],
 "metadata": {
  "kernelspec": {
   "display_name": "assignment_2",
   "language": "python",
   "name": "assignment_2"
  },
  "language_info": {
   "codemirror_mode": {
    "name": "ipython",
    "version": 3
   },
   "file_extension": ".py",
   "mimetype": "text/x-python",
   "name": "python",
   "nbconvert_exporter": "python",
   "pygments_lexer": "ipython3",
   "version": "3.7.2"
  }
 },
 "nbformat": 4,
 "nbformat_minor": 2
}
