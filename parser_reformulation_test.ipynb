{
 "nbformat": 4,
 "nbformat_minor": 2,
 "metadata": {
  "language_info": {
   "name": "python",
   "codemirror_mode": {
    "name": "ipython",
    "version": 3
   },
   "version": "3.7.4-final"
  },
  "orig_nbformat": 2,
  "file_extension": ".py",
  "mimetype": "text/x-python",
  "name": "python",
  "npconvert_exporter": "python",
  "pygments_lexer": "ipython3",
  "version": 3,
  "kernelspec": {
   "name": "python37464bit58b581aa823b48d68caa55b91f5030c4",
   "display_name": "Python 3.7.4 64-bit"
  }
 },
 "cells": [
  {
   "cell_type": "markdown",
   "metadata": {},
   "source": [
    "# Parser\n",
    "Parse a sentence such that it can be reformulated as a base answer and used to query document"
   ]
  },
  {
   "cell_type": "code",
   "execution_count": 13,
   "metadata": {},
   "outputs": [],
   "source": [
    "import nltk\n",
    "import os\n",
    "from nltk.parse import CoreNLPParser\n",
    "  "
   ]
  },
  {
   "cell_type": "code",
   "execution_count": 2,
   "metadata": {},
   "outputs": [],
   "source": [
    "sentence = \"Gyarados (ギャラドス, Gyaradosu,  or ) is a Pokémon species in Nintendo and Game Freak's Pokémon franchise. Created by Ken Sugimori, Gyarados first appeared in the video games Pokémon Red and Pokemon Green and subsequent sequels, later appearing in various merchandise, spinoff titles and animated and printed adaptations of the franchise.\""
   ]
  },
  {
   "cell_type": "markdown",
   "metadata": {},
   "source": [
    "https://github.com/nltk/nltk/wiki/Stanford-CoreNLP-API-in-NLTK\n",
    "\n",
    "In the directory with the Stanford CoreNLP run the following command to start the server at port 9000\n",
    "\n",
    "java -mx4g -cp \"*\" edu.stanford.nlp.pipeline.StanfordCoreNLPServer \\\n",
    "-preload tokenize,ssplit,pos,lemma,ner,parse,depparse \\\n",
    "-status_port 9000 -port 9000 -timeout 15000 &\n",
    "\n",
    "It is connected when the final line is:\n",
    "[main] INFO CoreNLP - StanfordCoreNLPServer listening at /0:0:0:0:0:0:0:0:port_#_here\n",
    "\n",
    "Remember to STOP the server when finished (then kill job)\n",
    "\n",
    "NOTE: Only one parser object can be attached to a port at a time"
   ]
  },
  {
   "cell_type": "code",
   "execution_count": 6,
   "metadata": {},
   "outputs": [],
   "source": [
    "# Lexical Parser\n",
    "parser = CoreNLPParser(url='http://localhost:9000')"
   ]
  },
  {
   "cell_type": "code",
   "execution_count": 16,
   "metadata": {},
   "outputs": [
    {
     "name": "stdout",
     "output_type": "stream",
     "text": "[Tree('ROOT', [Tree('S', [Tree('S', [Tree('NP', [Tree('NP', [Tree('NN', ['Gyarados'])]), Tree('PRN', [Tree('-LRB-', ['-LRB-']), Tree('NP', [Tree('NP', [Tree('NP', [Tree('CD', ['ギャラドス'])]), Tree(',', [',']), Tree('NP', [Tree('NNP', ['Gyaradosu'])])]), Tree(',', [',']), Tree('ADVP', [Tree('CC', ['or'])])]), Tree('-RRB-', ['-RRB-'])])]), Tree('VP', [Tree('VBZ', ['is']), Tree('NP', [Tree('NP', [Tree('DT', ['a']), Tree('NNP', ['Pokémon'])]), Tree('SBAR', [Tree('WHNP', [Tree('WHNP', [Tree('NNS', ['species'])]), Tree('PP', [Tree('IN', ['in']), Tree('NP', [Tree('NP', [Tree('NNP', ['Nintendo'])]), Tree('CC', ['and']), Tree('NP', [Tree('NP', [Tree('NNP', ['Game']), Tree('NNP', ['Freak']), Tree('POS', [\"'s\"])]), Tree('NNP', ['Pokémon']), Tree('NN', ['franchise'])])]), Tree('.', ['.'])])]), Tree('S', [Tree('VP', [Tree('VBN', ['Created']), Tree('PP', [Tree('IN', ['by']), Tree('NP', [Tree('NNP', ['Ken']), Tree('NNP', ['Sugimori'])])])])])])])])]), Tree(',', [',']), Tree('NP', [Tree('NNP', ['Gyarados'])]), Tree('ADVP', [Tree('RB', ['first'])]), Tree('VP', [Tree('VBD', ['appeared']), Tree('PP', [Tree('IN', ['in']), Tree('NP', [Tree('DT', ['the']), Tree('NN', ['video']), Tree('NNS', ['games'])])]), Tree('NP', [Tree('NP', [Tree('NNP', ['Pokémon']), Tree('NNP', ['Red']), Tree('CC', ['and']), Tree('NNS', ['Pokemon']), Tree('NN', ['Green']), Tree('CC', ['and']), Tree('JJ', ['subsequent']), Tree('NNS', ['sequels'])]), Tree(',', [',']), Tree('VP', [Tree('ADVP', [Tree('RB', ['later'])]), Tree('VBG', ['appearing']), Tree('PP', [Tree('IN', ['in']), Tree('NP', [Tree('NP', [Tree('NP', [Tree('JJ', ['various']), Tree('NN', ['merchandise'])]), Tree(',', [',']), Tree('NP', [Tree('NN', ['spinoff']), Tree('NNS', ['titles'])]), Tree('CC', ['and']), Tree('NP', [Tree('JJ', ['animated'])])]), Tree('CC', ['and']), Tree('NP', [Tree('NP', [Tree('VBN', ['printed']), Tree('NNS', ['adaptations'])]), Tree('PP', [Tree('IN', ['of']), Tree('NP', [Tree('DT', ['the']), Tree('NN', ['franchise'])])])])])])])])]), Tree('.', ['.'])])])]\n[Tree('ROOT', [Tree('S', [Tree('S', [Tree('NP', [Tree('NP', [Tree('NN', ['Gyarados'])]), Tree('PRN', [Tree('-LRB-', ['-LRB-']), Tree('NP', [Tree('NP', [Tree('NP', [Tree('CD', ['ギャラドス'])]), Tree(',', [',']), Tree('NP', [Tree('NNP', ['Gyaradosu'])])]), Tree(',', [',']), Tree('ADVP', [Tree('CC', ['or'])])]), Tree('-RRB-', ['-RRB-'])])]), Tree('VP', [Tree('VBZ', ['is']), Tree('NP', [Tree('NP', [Tree('DT', ['a']), Tree('NNP', ['Pokémon'])]), Tree('SBAR', [Tree('WHNP', [Tree('WHNP', [Tree('NNS', ['species'])]), Tree('PP', [Tree('IN', ['in']), Tree('NP', [Tree('NP', [Tree('NNP', ['Nintendo'])]), Tree('CC', ['and']), Tree('NP', [Tree('NP', [Tree('NNP', ['Game']), Tree('NNP', ['Freak']), Tree('POS', [\"'s\"])]), Tree('NNP', ['Pokémon']), Tree('NN', ['franchise'])])]), Tree('.', ['.'])])]), Tree('S', [Tree('VP', [Tree('VBN', ['Created']), Tree('PP', [Tree('IN', ['by']), Tree('NP', [Tree('NNP', ['Ken']), Tree('NNP', ['Sugimori'])])])])])])])])]), Tree(',', [',']), Tree('NP', [Tree('NNP', ['Gyarados'])]), Tree('ADVP', [Tree('RB', ['first'])]), Tree('VP', [Tree('VBD', ['appeared']), Tree('PP', [Tree('IN', ['in']), Tree('NP', [Tree('DT', ['the']), Tree('NN', ['video']), Tree('NNS', ['games'])])]), Tree('NP', [Tree('NP', [Tree('NNP', ['Pokémon']), Tree('NNP', ['Red']), Tree('CC', ['and']), Tree('NNS', ['Pokemon']), Tree('NN', ['Green']), Tree('CC', ['and']), Tree('JJ', ['subsequent']), Tree('NNS', ['sequels'])]), Tree(',', [',']), Tree('VP', [Tree('ADVP', [Tree('RB', ['later'])]), Tree('VBG', ['appearing']), Tree('PP', [Tree('IN', ['in']), Tree('NP', [Tree('NP', [Tree('NP', [Tree('JJ', ['various']), Tree('NN', ['merchandise'])]), Tree(',', [',']), Tree('NP', [Tree('NN', ['spinoff']), Tree('NNS', ['titles'])]), Tree('CC', ['and']), Tree('NP', [Tree('JJ', ['animated'])])]), Tree('CC', ['and']), Tree('NP', [Tree('NP', [Tree('VBN', ['printed']), Tree('NNS', ['adaptations'])]), Tree('PP', [Tree('IN', ['of']), Tree('NP', [Tree('DT', ['the']), Tree('NN', ['franchise'])])])])])])])])]), Tree('.', ['.'])])])]\nTrue\n"
    }
   ],
   "source": [
    "result_split = list(parser.parse(sentence.split()))\n",
    "print(result_split)\n",
    "result_tokenize = list(parser.parse(parser.tokenize(sentence)))\n",
    "print(result_tokenize)\n",
    "print(result_split == result_tokenize)\n"
   ]
  },
  {
   "cell_type": "code",
   "execution_count": null,
   "metadata": {},
   "outputs": [],
   "source": [
    "#Potential work with query reformulation\n",
    "#See if this is more useful with that\n",
    "query1 = \"What is Gyrados most similar in appearance to?\"\n",
    "query2 = \"Where is Gyrados first seen?\" #This requires noting \"appeared\" and \"seen\" would be synonyms\n",
    "query3 = \"Where is a red Gyarados found in Pokémon Gold?\"\n",
    "query4 = \"What franchise is Gyarados in?\" #Note: the word \"franchise\" is lost in the regex, but would still be used in the query\n",
    "query5 = \"Who is Gyarados voiced by?\"\n",
    "query6 = \"What is Gyarados known as?\"\n",
    "query7 = \"How is the growth of Gyarados from Pokémon Diamond and Pearl to Pokémon Black and White described by IGN?\"\n",
    "#Note: Question could not start with wh-question word - eg. \"Gyarados is voiced by who?\""
   ]
  },
  {
   "cell_type": "code",
   "execution_count": null,
   "metadata": {},
   "outputs": [],
   "source": [
    "#TODO: Recreate \"is\" reformulation from regex with parse instead"
   ]
  },
  {
   "cell_type": "code",
   "execution_count": null,
   "metadata": {},
   "outputs": [],
   "source": [
    "#TODO: Use vectorize reformulated question (with and without function words removed as separate tests) and determine most likely sentence by taking cosine similarity with vectorized sentences"
   ]
  }
 ]
}